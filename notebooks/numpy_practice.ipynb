{
 "cells": [
  {
   "cell_type": "code",
   "execution_count": 1,
   "id": "c45c789e-36f9-4f73-b3a2-99aa2cef74d3",
   "metadata": {},
   "outputs": [
    {
     "name": "stdout",
     "output_type": "stream",
     "text": [
      "%pylab is deprecated, use %matplotlib inline and import the required libraries.\n",
      "Populating the interactive namespace from numpy and matplotlib\n"
     ]
    }
   ],
   "source": [
    "%pylab inline"
   ]
  },
  {
   "cell_type": "markdown",
   "id": "d7621ef5-d735-461d-97ba-9ca5674ff5de",
   "metadata": {},
   "source": [
    "## Exercise 1\n",
    "\n",
    "- Create a NumPy array with the integers from birthday (year,month, and day).\n",
    "- Retrieve the year.\n",
    "- Replace the year with the current year.\n",
    "- Create a NumPy array containing every 3rd number from 567 to 890. What is the 8th number in this array? What is the 15th?"
   ]
  },
  {
   "cell_type": "markdown",
   "id": "9ec5481c-8118-4a74-be93-8c118d196c91",
   "metadata": {},
   "source": [
    "## Exercise 2\n",
    "\n",
    "- Create an array of 10 random integers, from 0-100.\n",
    "- Find the mean and standard deviation of these numbers.\n",
    "- Create another array of 10 random integers, from 0-100.\n",
    "- Create a new array whose elements are the average of those from each of the previous ones.\n",
    "- Create an array of 10 random floats, from 0-100.\n",
    "- We would expect the mean to be approximately 50. Is it? What's the standard deviation?\n",
    "- What are the min and max values?"
   ]
  },
  {
   "cell_type": "code",
   "execution_count": 4,
   "id": "defd1681-e76d-4c07-92c0-0a1c7a1f75ef",
   "metadata": {},
   "outputs": [],
   "source": [
    "a = np.random.randint(0, 100, 10)"
   ]
  },
  {
   "cell_type": "code",
   "execution_count": 5,
   "id": "a3e1e5f5-7330-4a31-8b40-5a1580fb7819",
   "metadata": {},
   "outputs": [
    {
     "data": {
      "text/plain": [
       "array([64, 22, 67, 78, 39, 53,  6, 43, 97, 49])"
      ]
     },
     "execution_count": 5,
     "metadata": {},
     "output_type": "execute_result"
    }
   ],
   "source": [
    "a"
   ]
  },
  {
   "cell_type": "code",
   "execution_count": 6,
   "id": "1e57c222-aef5-4794-88fe-a8172bb03fd2",
   "metadata": {},
   "outputs": [
    {
     "data": {
      "text/plain": [
       "51.8"
      ]
     },
     "execution_count": 6,
     "metadata": {},
     "output_type": "execute_result"
    }
   ],
   "source": [
    "a.mean()"
   ]
  },
  {
   "cell_type": "code",
   "execution_count": 7,
   "id": "9fe48aa8-3540-4374-a6e0-e20acf88d8ac",
   "metadata": {},
   "outputs": [
    {
     "data": {
      "text/plain": [
       "25.19047439013406"
      ]
     },
     "execution_count": 7,
     "metadata": {},
     "output_type": "execute_result"
    }
   ],
   "source": [
    "a.std()"
   ]
  },
  {
   "cell_type": "code",
   "execution_count": 8,
   "id": "37c17eb9-edbd-4ab2-ae34-8cbd7ea082b2",
   "metadata": {},
   "outputs": [],
   "source": [
    "b = np.random.randint(0, 100, 10)"
   ]
  },
  {
   "cell_type": "code",
   "execution_count": 9,
   "id": "b1704514-61eb-441b-ad3a-c98fb0b95d48",
   "metadata": {},
   "outputs": [
    {
     "data": {
      "text/plain": [
       "array([56, 79, 91, 58, 67, 24, 76, 69, 54, 40])"
      ]
     },
     "execution_count": 9,
     "metadata": {},
     "output_type": "execute_result"
    }
   ],
   "source": [
    "b"
   ]
  },
  {
   "cell_type": "code",
   "execution_count": 10,
   "id": "75e5e95e-1a57-44f3-a0e2-765c73b3ceae",
   "metadata": {},
   "outputs": [],
   "source": [
    "amean = a.mean()\n",
    "bmean = b.mean()\n",
    "\n",
    "c = np.array([amean, bmean])"
   ]
  },
  {
   "cell_type": "code",
   "execution_count": 11,
   "id": "097644ac-92cb-4886-872b-2472fe2be5bf",
   "metadata": {},
   "outputs": [
    {
     "data": {
      "text/plain": [
       "array([51.8, 61.4])"
      ]
     },
     "execution_count": 11,
     "metadata": {},
     "output_type": "execute_result"
    }
   ],
   "source": [
    "c"
   ]
  },
  {
   "cell_type": "code",
   "execution_count": 12,
   "id": "515b3781-1132-4472-9491-fa47970de23d",
   "metadata": {},
   "outputs": [],
   "source": [
    "d = np.random.rand(10) * 100"
   ]
  },
  {
   "cell_type": "code",
   "execution_count": 13,
   "id": "f0f6af19-45e6-4ca5-ae91-fd3f6adda845",
   "metadata": {},
   "outputs": [
    {
     "data": {
      "text/plain": [
       "array([60. , 50.5, 79. , 68. , 53. , 38.5, 41. , 56. , 75.5, 44.5])"
      ]
     },
     "execution_count": 13,
     "metadata": {},
     "output_type": "execute_result"
    }
   ],
   "source": [
    "(a + b) / 2"
   ]
  },
  {
   "cell_type": "code",
   "execution_count": 14,
   "id": "84cba5a0-17fb-4167-af32-d46810a8c0b4",
   "metadata": {},
   "outputs": [
    {
     "data": {
      "text/plain": [
       "array([ 6.86422761, 52.88195729, 23.03408238, 25.5688418 , 26.44789544,\n",
       "       48.66054742, 35.34423521,  7.43716497,  2.62274857, 14.27855437])"
      ]
     },
     "execution_count": 14,
     "metadata": {},
     "output_type": "execute_result"
    }
   ],
   "source": [
    "d"
   ]
  },
  {
   "cell_type": "code",
   "execution_count": 15,
   "id": "bf39804f-8e8f-4434-8866-57f1128a360b",
   "metadata": {},
   "outputs": [
    {
     "data": {
      "text/plain": [
       "array([42, 36, 79, 60, 41, 76,  5,  6, 45, 93, 74, 11, 83, 11, 79,  9, 18,\n",
       "       76, 19, 92])"
      ]
     },
     "execution_count": 15,
     "metadata": {},
     "output_type": "execute_result"
    }
   ],
   "source": [
    "a = np.random.randint(0, 100, 20)\n",
    "a"
   ]
  },
  {
   "cell_type": "code",
   "execution_count": 16,
   "id": "8a1ee0ec-178a-4b99-a142-3af5dc913f1d",
   "metadata": {},
   "outputs": [
    {
     "data": {
      "text/plain": [
       "array([74,  9])"
      ]
     },
     "execution_count": 16,
     "metadata": {},
     "output_type": "execute_result"
    }
   ],
   "source": [
    "a[[10, 15]]"
   ]
  },
  {
   "cell_type": "code",
   "execution_count": 17,
   "id": "4767bd16-c293-423c-90fe-3bc5a65fdb71",
   "metadata": {},
   "outputs": [
    {
     "data": {
      "text/plain": [
       "array([42, 79, 41,  5, 45])"
      ]
     },
     "execution_count": 17,
     "metadata": {},
     "output_type": "execute_result"
    }
   ],
   "source": [
    "a[np.arange(0, 10, 2)]"
   ]
  },
  {
   "cell_type": "code",
   "execution_count": 18,
   "id": "87e22351-2447-46a4-9dc5-b354dbc5af08",
   "metadata": {},
   "outputs": [
    {
     "data": {
      "text/plain": [
       "array([42, 42, 79, 79])"
      ]
     },
     "execution_count": 18,
     "metadata": {},
     "output_type": "execute_result"
    }
   ],
   "source": [
    "a[[0, 0, 2, 2]]"
   ]
  },
  {
   "cell_type": "code",
   "execution_count": 19,
   "id": "76966583-70a0-4cbf-a8d1-6cd6aed79727",
   "metadata": {},
   "outputs": [
    {
     "data": {
      "text/plain": [
       "array([42, 36, 79, 60, 41, 76,  5,  6, 45, 93, 74, 11, 83, 11, 79,  9, 18,\n",
       "       76, 19, 92])"
      ]
     },
     "execution_count": 19,
     "metadata": {},
     "output_type": "execute_result"
    }
   ],
   "source": [
    "a"
   ]
  },
  {
   "cell_type": "code",
   "execution_count": 20,
   "id": "263b0295-e7ec-4cb0-a80d-07a8821b9280",
   "metadata": {},
   "outputs": [],
   "source": [
    "b = a"
   ]
  },
  {
   "cell_type": "code",
   "execution_count": 21,
   "id": "db2e3450-2d77-40b5-ad93-f836699f27fe",
   "metadata": {},
   "outputs": [],
   "source": [
    "b.base"
   ]
  },
  {
   "cell_type": "code",
   "execution_count": 22,
   "id": "8ef26c28-8589-43fa-a32e-34bf36629ed9",
   "metadata": {},
   "outputs": [],
   "source": [
    "a.base"
   ]
  },
  {
   "cell_type": "code",
   "execution_count": 23,
   "id": "47f30aa1-bbc3-484f-bc06-9cf19edc6c84",
   "metadata": {},
   "outputs": [],
   "source": [
    "b[0] = 1"
   ]
  },
  {
   "cell_type": "code",
   "execution_count": 24,
   "id": "bfc06235-3e47-4e15-adfb-f6676fbfc7f5",
   "metadata": {},
   "outputs": [
    {
     "data": {
      "text/plain": [
       "array([ 1, 36, 79, 60, 41, 76,  5,  6, 45, 93, 74, 11, 83, 11, 79,  9, 18,\n",
       "       76, 19, 92])"
      ]
     },
     "execution_count": 24,
     "metadata": {},
     "output_type": "execute_result"
    }
   ],
   "source": [
    "b"
   ]
  },
  {
   "cell_type": "code",
   "execution_count": 25,
   "id": "91a82c4a-132d-4c4c-8d0b-1824af0beb27",
   "metadata": {},
   "outputs": [
    {
     "data": {
      "text/plain": [
       "array([ 1, 36, 79, 60, 41, 76,  5,  6, 45, 93, 74, 11, 83, 11, 79,  9, 18,\n",
       "       76, 19, 92])"
      ]
     },
     "execution_count": 25,
     "metadata": {},
     "output_type": "execute_result"
    }
   ],
   "source": [
    "a"
   ]
  },
  {
   "cell_type": "code",
   "execution_count": 26,
   "id": "d3185660-d2d5-4ebe-978a-538d1b35df0b",
   "metadata": {},
   "outputs": [],
   "source": [
    "b.base"
   ]
  },
  {
   "cell_type": "code",
   "execution_count": 27,
   "id": "4fd52360-f4e3-40e4-b5db-3c73623cb298",
   "metadata": {},
   "outputs": [
    {
     "data": {
      "text/plain": [
       "NoneType"
      ]
     },
     "execution_count": 27,
     "metadata": {},
     "output_type": "execute_result"
    }
   ],
   "source": [
    "type(a.base)"
   ]
  },
  {
   "cell_type": "code",
   "execution_count": 28,
   "id": "c965ede5-3587-4bfe-815d-a31dad542eec",
   "metadata": {},
   "outputs": [
    {
     "data": {
      "text/plain": [
       "NoneType"
      ]
     },
     "execution_count": 28,
     "metadata": {},
     "output_type": "execute_result"
    }
   ],
   "source": [
    "type(b.base)"
   ]
  },
  {
   "cell_type": "code",
   "execution_count": 29,
   "id": "6ff2238b-c033-4b2f-896c-d432b03c58d3",
   "metadata": {},
   "outputs": [],
   "source": [
    "b = a[[0, 1]]"
   ]
  },
  {
   "cell_type": "code",
   "execution_count": 30,
   "id": "0367e4e1-499f-4159-9d85-1894862f83ae",
   "metadata": {},
   "outputs": [],
   "source": [
    "b[0]=0\n",
    "b[1] = 1"
   ]
  },
  {
   "cell_type": "code",
   "execution_count": 31,
   "id": "a73578b9-0881-4cd5-8ffe-eacaced399f3",
   "metadata": {},
   "outputs": [
    {
     "data": {
      "text/plain": [
       "array([0, 1])"
      ]
     },
     "execution_count": 31,
     "metadata": {},
     "output_type": "execute_result"
    }
   ],
   "source": [
    "b"
   ]
  },
  {
   "cell_type": "code",
   "execution_count": 32,
   "id": "660e1c25-22c6-493c-bf7e-f3f4dce368f9",
   "metadata": {},
   "outputs": [
    {
     "data": {
      "text/plain": [
       "array([ 1, 36, 79, 60, 41, 76,  5,  6, 45, 93, 74, 11, 83, 11, 79,  9, 18,\n",
       "       76, 19, 92])"
      ]
     },
     "execution_count": 32,
     "metadata": {},
     "output_type": "execute_result"
    }
   ],
   "source": [
    "a"
   ]
  },
  {
   "cell_type": "markdown",
   "id": "cd3e85ee-ccbb-4f28-b9a9-3e8358773a34",
   "metadata": {},
   "source": [
    "## Exercise 3"
   ]
  },
  {
   "cell_type": "markdown",
   "id": "372b9750-40cd-43a7-bcc5-e73eb96d80f1",
   "metadata": {},
   "source": [
    "(1) Create an array of 20 random integers from 0 to 100.\n",
    "(2) Find the largest even number.\n",
    "(3) Find the mean of the odd numbers.\n",
    "(4) Create a NumPy array from the first and last odd numbers.\n",
    "(5) Create an array of 20 floats from 0-1,000.\n",
    "(6) Find the items that are less than the mean.\n",
    "(7) Find the items less than mean-std.\n"
   ]
  },
  {
   "cell_type": "code",
   "execution_count": 35,
   "id": "b5d4cfea-6375-48db-af3b-85d74bbde379",
   "metadata": {},
   "outputs": [],
   "source": [
    "a = np.random.randint(0,100,20)"
   ]
  },
  {
   "cell_type": "code",
   "execution_count": 36,
   "id": "c6c1c9d2-9b45-4b94-9fb2-2639ff09c746",
   "metadata": {},
   "outputs": [
    {
     "data": {
      "text/plain": [
       "array([23, 31, 27, 14, 66, 92, 19, 56, 89, 18, 24, 94, 73, 52, 82, 43, 97,\n",
       "       90, 77, 88])"
      ]
     },
     "execution_count": 36,
     "metadata": {},
     "output_type": "execute_result"
    }
   ],
   "source": [
    "a"
   ]
  },
  {
   "cell_type": "code",
   "execution_count": 37,
   "id": "78ba092f-b436-4033-b5e9-7801f85e9617",
   "metadata": {},
   "outputs": [
    {
     "data": {
      "text/plain": [
       "array([False, False, False,  True,  True,  True, False,  True, False,\n",
       "        True,  True,  True, False,  True,  True, False, False,  True,\n",
       "       False,  True])"
      ]
     },
     "execution_count": 37,
     "metadata": {},
     "output_type": "execute_result"
    }
   ],
   "source": [
    "a % 2 == 0"
   ]
  },
  {
   "cell_type": "code",
   "execution_count": 38,
   "id": "82131c3f-9987-4ea8-ac2d-79f6a38d4421",
   "metadata": {},
   "outputs": [],
   "source": [
    "even_numbers = a[a % 2 == 0]"
   ]
  },
  {
   "cell_type": "code",
   "execution_count": 39,
   "id": "5ad3dd34-90aa-4cbb-8421-f53a3a47bc02",
   "metadata": {},
   "outputs": [
    {
     "data": {
      "text/plain": [
       "array([14, 66, 92, 56, 18, 24, 94, 52, 82, 90, 88])"
      ]
     },
     "execution_count": 39,
     "metadata": {},
     "output_type": "execute_result"
    }
   ],
   "source": [
    "even_numbers"
   ]
  },
  {
   "cell_type": "code",
   "execution_count": 40,
   "id": "e5d43924-1e13-4ecc-8c3b-e30af171dbf0",
   "metadata": {},
   "outputs": [
    {
     "data": {
      "text/plain": [
       "94"
      ]
     },
     "execution_count": 40,
     "metadata": {},
     "output_type": "execute_result"
    }
   ],
   "source": [
    "even_numbers.max()"
   ]
  },
  {
   "cell_type": "code",
   "execution_count": 41,
   "id": "573dafdd-9441-4a0c-9588-3ea9fe1184f8",
   "metadata": {},
   "outputs": [],
   "source": [
    "odd_numbers = a[a % 2 == 1]"
   ]
  },
  {
   "cell_type": "code",
   "execution_count": 42,
   "id": "2efd71b9-7eea-47ae-af67-d0254402db42",
   "metadata": {},
   "outputs": [
    {
     "data": {
      "text/plain": [
       "53.22222222222222"
      ]
     },
     "execution_count": 42,
     "metadata": {},
     "output_type": "execute_result"
    }
   ],
   "source": [
    "odd_numbers.mean()"
   ]
  },
  {
   "cell_type": "code",
   "execution_count": 43,
   "id": "8b1f0fd5-4948-42c4-9418-d2d4da6893ab",
   "metadata": {},
   "outputs": [
    {
     "data": {
      "text/plain": [
       "array([19, 97])"
      ]
     },
     "execution_count": 43,
     "metadata": {},
     "output_type": "execute_result"
    }
   ],
   "source": [
    "np.array([odd_numbers.min(),odd_numbers.max()])"
   ]
  },
  {
   "cell_type": "code",
   "execution_count": 44,
   "id": "48239f6b-6748-4d6c-b1ea-97cc6703ffa4",
   "metadata": {},
   "outputs": [],
   "source": [
    "floats = np.random.rand(20) * 1000"
   ]
  },
  {
   "cell_type": "code",
   "execution_count": 45,
   "id": "fd483f0b-af41-427d-9bc4-61ef4cf95901",
   "metadata": {},
   "outputs": [
    {
     "data": {
      "text/plain": [
       "array([439.02537468, 587.70839978, 318.5424976 , 648.42274293,\n",
       "       416.81895646, 621.02398096, 153.92150057, 573.50649694,\n",
       "        28.82735776, 367.93463403, 461.02979753, 800.12725633,\n",
       "        32.33864988, 942.18191086,  49.97934227, 885.44313329,\n",
       "       511.25774055, 670.76594493, 647.51080389,  45.45968471])"
      ]
     },
     "execution_count": 45,
     "metadata": {},
     "output_type": "execute_result"
    }
   ],
   "source": [
    "floats"
   ]
  },
  {
   "cell_type": "code",
   "execution_count": 46,
   "id": "6fc21d7a-4c36-48ca-9d84-125224d877c9",
   "metadata": {},
   "outputs": [
    {
     "data": {
      "text/plain": [
       "array([439.02537468, 318.5424976 , 416.81895646, 153.92150057,\n",
       "        28.82735776, 367.93463403,  32.33864988,  49.97934227,\n",
       "        45.45968471])"
      ]
     },
     "execution_count": 46,
     "metadata": {},
     "output_type": "execute_result"
    }
   ],
   "source": [
    "floats[floats < floats.mean()]"
   ]
  },
  {
   "cell_type": "code",
   "execution_count": 47,
   "id": "e104730a-ff13-4de1-b925-0aaba848ac2d",
   "metadata": {},
   "outputs": [
    {
     "data": {
      "text/plain": [
       "array([23, 77])"
      ]
     },
     "execution_count": 47,
     "metadata": {},
     "output_type": "execute_result"
    }
   ],
   "source": [
    "odd_numbers[[0,-1]]"
   ]
  },
  {
   "cell_type": "code",
   "execution_count": 48,
   "id": "8c248f0b-c1f2-48da-9fc4-62718ded906d",
   "metadata": {},
   "outputs": [],
   "source": [
    "a = np.random.randint(0, 100, 20)"
   ]
  },
  {
   "cell_type": "code",
   "execution_count": 49,
   "id": "1f2ea197-684d-4bf0-bab6-3347dd162e41",
   "metadata": {},
   "outputs": [
    {
     "data": {
      "text/plain": [
       "array([10, 82,  2, 15, 94, 45, 44, 34, 83, 61, 98, 79, 21, 88, 89,  8, 18,\n",
       "       17, 78, 68])"
      ]
     },
     "execution_count": 49,
     "metadata": {},
     "output_type": "execute_result"
    }
   ],
   "source": [
    "a"
   ]
  },
  {
   "cell_type": "code",
   "execution_count": 50,
   "id": "cb64cf26-3d8a-4af0-bb9b-ae0101bc5386",
   "metadata": {},
   "outputs": [],
   "source": [
    "b = a[a % 2 == 0]"
   ]
  },
  {
   "cell_type": "code",
   "execution_count": 51,
   "id": "a3501cdc-1d88-4b4c-8789-e17fd98b68a3",
   "metadata": {},
   "outputs": [
    {
     "data": {
      "text/plain": [
       "array([10, 82,  2, 15, 94, 45, 44, 34, 83, 61, 98, 79, 21, 88, 89,  8, 18,\n",
       "       17, 78, 68])"
      ]
     },
     "execution_count": 51,
     "metadata": {},
     "output_type": "execute_result"
    }
   ],
   "source": [
    "a"
   ]
  },
  {
   "cell_type": "code",
   "execution_count": 52,
   "id": "34c6cc56-8b5b-4c68-80c2-06ec3319aa77",
   "metadata": {},
   "outputs": [
    {
     "data": {
      "text/plain": [
       "array([10, 82,  2, 94, 44, 34, 98, 88,  8, 18, 78, 68])"
      ]
     },
     "execution_count": 52,
     "metadata": {},
     "output_type": "execute_result"
    }
   ],
   "source": [
    "b"
   ]
  },
  {
   "cell_type": "code",
   "execution_count": 53,
   "id": "7dd9e916-052b-43e0-ae7c-6b4b36270482",
   "metadata": {},
   "outputs": [
    {
     "data": {
      "text/plain": [
       "array([10,  2, 44, 34,  8, 18])"
      ]
     },
     "execution_count": 53,
     "metadata": {},
     "output_type": "execute_result"
    }
   ],
   "source": [
    "b[b < b.mean()]"
   ]
  },
  {
   "cell_type": "code",
   "execution_count": 54,
   "id": "47ecd3a8-f5e4-436a-9681-b080a27871be",
   "metadata": {},
   "outputs": [
    {
     "data": {
      "text/plain": [
       "array([10,  2, 44, 34,  8, 18])"
      ]
     },
     "execution_count": 54,
     "metadata": {},
     "output_type": "execute_result"
    }
   ],
   "source": [
    "b[b < a.mean()]"
   ]
  },
  {
   "cell_type": "code",
   "execution_count": 55,
   "id": "b046acea-14e0-4640-9733-a0ce6878354e",
   "metadata": {},
   "outputs": [
    {
     "data": {
      "text/plain": [
       "array([ True, False,  True, False, False, False,  True,  True, False,\n",
       "       False, False, False, False, False, False,  True,  True, False,\n",
       "       False, False])"
      ]
     },
     "execution_count": 55,
     "metadata": {},
     "output_type": "execute_result"
    }
   ],
   "source": [
    "(a%2==0) & (a<a.mean())"
   ]
  },
  {
   "cell_type": "markdown",
   "id": "a84a0a62-eb89-4ffd-a35f-b05cd402ec71",
   "metadata": {},
   "source": [
    "## EXERCISE 4"
   ]
  },
  {
   "cell_type": "markdown",
   "id": "f37da9cb-02f1-4c7d-8277-9c6a436f3d40",
   "metadata": {},
   "source": [
    "\n",
    "(1) Create a NumPy array of 20 random integers from 0-100.\n",
    "(2) What's the smallest even number greater than the mean?\n",
    "(3) Show all numbers either <mean-std or >mean+std.\n",
    "(4) Show odd numbers < mean and even numbers > mean."
   ]
  },
  {
   "cell_type": "code",
   "execution_count": 58,
   "id": "b6a1daa0-aead-4418-80dd-da12b2285d1a",
   "metadata": {},
   "outputs": [],
   "source": [
    "a = np.random.randint(0, 100, 20)"
   ]
  },
  {
   "cell_type": "code",
   "execution_count": 59,
   "id": "b61effde-7832-459a-ac83-d6d9e3e001fd",
   "metadata": {},
   "outputs": [
    {
     "data": {
      "text/plain": [
       "62"
      ]
     },
     "execution_count": 59,
     "metadata": {},
     "output_type": "execute_result"
    }
   ],
   "source": [
    "a[(a % 2 == 0) &  (a > a.mean())].min()"
   ]
  },
  {
   "cell_type": "code",
   "execution_count": 60,
   "id": "4bf893d9-a7e7-4f4d-aa1e-d06d69b87d3b",
   "metadata": {},
   "outputs": [
    {
     "data": {
      "text/plain": [
       "array([18, 62, 42, 77,  6,  2, 88, 31, 37,  6, 92, 75, 67, 10, 25, 39,  2,\n",
       "       68, 95, 32])"
      ]
     },
     "execution_count": 60,
     "metadata": {},
     "output_type": "execute_result"
    }
   ],
   "source": [
    "a"
   ]
  },
  {
   "cell_type": "code",
   "execution_count": 61,
   "id": "9bf1a2c7-4d66-4add-9b5e-c76ab6a8b968",
   "metadata": {},
   "outputs": [],
   "source": [
    "a[(a<a.mean()-a.std()) | (a>a.mean()+a.std())] = a.mean()"
   ]
  },
  {
   "cell_type": "code",
   "execution_count": 62,
   "id": "9a077c1c-717e-4bcf-af69-2a2c17075c64",
   "metadata": {},
   "outputs": [
    {
     "data": {
      "text/plain": [
       "array([18, 62, 42, 43, 43, 43, 43, 31, 37, 43, 43, 43, 67, 43, 25, 39, 43,\n",
       "       68, 43, 32])"
      ]
     },
     "execution_count": 62,
     "metadata": {},
     "output_type": "execute_result"
    }
   ],
   "source": [
    "a"
   ]
  },
  {
   "cell_type": "markdown",
   "id": "00d64b26-b329-4c6f-91c8-c1c282fd03ca",
   "metadata": {},
   "source": [
    "## Exercise 5"
   ]
  },
  {
   "cell_type": "markdown",
   "id": "88198b70-c944-49a5-8485-4c8bd4fdb294",
   "metadata": {},
   "source": [
    "(1) Create a NumPy array of 40 random integers, from 0-100.\n",
    "(2) Find all numbers that are within 1 standard deviation of the mean,\n",
    "    and set them to be equal to the mean.  Has the mean changed?  Has\n",
    "    the std changed?\n",
    "(3) Create another NumPy array of 10 random integers, from 0-100.\n",
    "(4) Set the item at the even indexes to be equal to the items at the odd\n",
    "    indexes.  So index 0 will get the value at index 1, etc."
   ]
  },
  {
   "cell_type": "code",
   "execution_count": 65,
   "id": "1bc962ba-f620-407b-b44c-2a0993d2f5d3",
   "metadata": {},
   "outputs": [],
   "source": [
    "a = np.random.randint(0, 100, 40)"
   ]
  },
  {
   "cell_type": "code",
   "execution_count": 66,
   "id": "983463a5-de48-4e96-9a85-18aaf0bd9082",
   "metadata": {},
   "outputs": [
    {
     "data": {
      "text/plain": [
       "array([30, 14, 60, 65, 51, 89, 14, 92, 23, 88, 36, 76, 56,  5, 27,  9, 77,\n",
       "        9,  7, 86, 55,  6, 23,  7, 92, 98,  8, 42, 48, 79, 39, 15, 46, 81,\n",
       "       85, 60, 75, 16, 91, 23])"
      ]
     },
     "execution_count": 66,
     "metadata": {},
     "output_type": "execute_result"
    }
   ],
   "source": [
    "a"
   ]
  },
  {
   "cell_type": "code",
   "execution_count": 67,
   "id": "92457d58-4e0d-407d-8b11-78a20ddfbbb8",
   "metadata": {},
   "outputs": [],
   "source": [
    "a = np.random.randint(0, 100, 10)"
   ]
  },
  {
   "cell_type": "code",
   "execution_count": 68,
   "id": "3300ab34-4643-4b3b-b521-74b47144838b",
   "metadata": {},
   "outputs": [
    {
     "data": {
      "text/plain": [
       "array([14, 77, 61, 76, 31, 81, 68, 79, 25, 74])"
      ]
     },
     "execution_count": 68,
     "metadata": {},
     "output_type": "execute_result"
    }
   ],
   "source": [
    "a"
   ]
  },
  {
   "cell_type": "code",
   "execution_count": 69,
   "id": "210303f4-2854-415c-85a3-c63f5cd181a0",
   "metadata": {},
   "outputs": [
    {
     "data": {
      "text/plain": [
       "array([14, 61, 31, 68, 25])"
      ]
     },
     "execution_count": 69,
     "metadata": {},
     "output_type": "execute_result"
    }
   ],
   "source": [
    "a[np.arange(0, 10, 2)]"
   ]
  },
  {
   "cell_type": "code",
   "execution_count": 70,
   "id": "da37c2b7-a160-4ea1-a45e-8da1a3f2ef76",
   "metadata": {},
   "outputs": [
    {
     "data": {
      "text/plain": [
       "array([77, 76, 81, 79, 74])"
      ]
     },
     "execution_count": 70,
     "metadata": {},
     "output_type": "execute_result"
    }
   ],
   "source": [
    "a[np.arange(1, 10, 2)]"
   ]
  },
  {
   "cell_type": "code",
   "execution_count": 71,
   "id": "5d1eba81-2ea3-4900-bbb5-60c4abcaa449",
   "metadata": {},
   "outputs": [],
   "source": [
    "a = np.array([10, 20, 30])"
   ]
  },
  {
   "cell_type": "code",
   "execution_count": 72,
   "id": "bbca6755-233b-4409-8753-5d6baaabf29a",
   "metadata": {},
   "outputs": [],
   "source": [
    "a[1] = 20.4"
   ]
  },
  {
   "cell_type": "code",
   "execution_count": 73,
   "id": "b323fab4-520f-4c77-8325-5d308bb84d0f",
   "metadata": {},
   "outputs": [
    {
     "data": {
      "text/plain": [
       "array([10, 20, 30])"
      ]
     },
     "execution_count": 73,
     "metadata": {},
     "output_type": "execute_result"
    }
   ],
   "source": [
    "a"
   ]
  },
  {
   "cell_type": "code",
   "execution_count": 74,
   "id": "053e5155-15f1-4517-94ce-57b535ebbf4e",
   "metadata": {},
   "outputs": [],
   "source": [
    "a[1] = 20.9"
   ]
  },
  {
   "cell_type": "code",
   "execution_count": 75,
   "id": "95073bfa-7299-4913-be8c-094a6d6a9fd5",
   "metadata": {},
   "outputs": [
    {
     "data": {
      "text/plain": [
       "array([10, 20, 30])"
      ]
     },
     "execution_count": 75,
     "metadata": {},
     "output_type": "execute_result"
    }
   ],
   "source": [
    "a"
   ]
  },
  {
   "cell_type": "code",
   "execution_count": 76,
   "id": "bde6d2c4-7f96-46d8-84b7-7474274034a5",
   "metadata": {},
   "outputs": [],
   "source": [
    "a = np.array([10, 20, 30, 40, 50])"
   ]
  },
  {
   "cell_type": "code",
   "execution_count": 77,
   "id": "61ec052d-616b-4cd9-be28-e71d5f216786",
   "metadata": {},
   "outputs": [
    {
     "data": {
      "text/plain": [
       "array([10., 20., 30., 40., 50.])"
      ]
     },
     "execution_count": 77,
     "metadata": {},
     "output_type": "execute_result"
    }
   ],
   "source": [
    "a.astype(float64)"
   ]
  },
  {
   "cell_type": "code",
   "execution_count": 78,
   "id": "9ae46c07-bb1d-48f6-9be3-8c06d4bccb18",
   "metadata": {},
   "outputs": [
    {
     "data": {
      "text/plain": [
       "array([10., 20., 30., 40., 50.])"
      ]
     },
     "execution_count": 78,
     "metadata": {},
     "output_type": "execute_result"
    }
   ],
   "source": [
    "a.astype(np.float64)"
   ]
  },
  {
   "cell_type": "code",
   "execution_count": 79,
   "id": "67052e6c-b8f8-4f10-a0d7-c7fdfff44237",
   "metadata": {},
   "outputs": [],
   "source": [
    "a = np.array('the end of the world is near'.split())"
   ]
  },
  {
   "cell_type": "code",
   "execution_count": 80,
   "id": "b813649d-bb47-4153-937b-3886bddf0bfd",
   "metadata": {},
   "outputs": [
    {
     "data": {
      "text/plain": [
       "array(['the', 'end', 'of', 'the', 'world', 'is', 'near'], dtype='<U5')"
      ]
     },
     "execution_count": 80,
     "metadata": {},
     "output_type": "execute_result"
    }
   ],
   "source": [
    "a"
   ]
  },
  {
   "cell_type": "markdown",
   "id": "6c6a5f61-6ca4-4fc6-86b3-8304b94b4141",
   "metadata": {},
   "source": [
    "(1) Create a NumPy array of 10 random integers from 0-100.\n",
    "(2) Calculate the mean, which will be a float.\n",
    "(3) Create an array of type float based on it, and replace the\n",
    "    outliers (i.e., <mean-std or >mean+std) with the mean.\n",
    "(4) Create a NumPy array of 20 random floats from 0-100.\n",
    "(5) Replace those numbers whose int portion is even with the mean.\n",
    "    (So 20.5 would be replaced, but 21.5 would not be.)\n",
    "    \n"
   ]
  },
  {
   "cell_type": "code",
   "execution_count": 82,
   "id": "88fc9a14-d220-4bb2-83c9-82591554a310",
   "metadata": {},
   "outputs": [],
   "source": [
    "a = np.random.randint(0, 100, 10)"
   ]
  },
  {
   "cell_type": "code",
   "execution_count": 83,
   "id": "0c767979-5a50-4955-b867-86a8f2e46fa6",
   "metadata": {},
   "outputs": [
    {
     "data": {
      "text/plain": [
       "33.4"
      ]
     },
     "execution_count": 83,
     "metadata": {},
     "output_type": "execute_result"
    }
   ],
   "source": [
    "a.mean()"
   ]
  },
  {
   "cell_type": "code",
   "execution_count": 84,
   "id": "9841ba5a-c9c5-4c95-b068-64d66dcccf35",
   "metadata": {},
   "outputs": [],
   "source": [
    "a = a.astype(float64)"
   ]
  },
  {
   "cell_type": "code",
   "execution_count": 85,
   "id": "d48245c9-3760-42f2-b245-b4373385e0b2",
   "metadata": {},
   "outputs": [
    {
     "data": {
      "text/plain": [
       "array([56., 23., 44.,  0., 42., 52., 29., 33., 54.,  1.])"
      ]
     },
     "execution_count": 85,
     "metadata": {},
     "output_type": "execute_result"
    }
   ],
   "source": [
    "a"
   ]
  },
  {
   "cell_type": "code",
   "execution_count": 86,
   "id": "31b50388-a60a-48d9-bf34-02e68f39fe6e",
   "metadata": {},
   "outputs": [],
   "source": [
    "a[(a<a.mean()-a.std()) | (a>a.mean()+a.std())] = a.mean()"
   ]
  },
  {
   "cell_type": "code",
   "execution_count": 87,
   "id": "7a6c5187-0f72-4b42-af58-5ae5131b9552",
   "metadata": {},
   "outputs": [
    {
     "data": {
      "text/plain": [
       "array([33.4, 23. , 44. , 33.4, 42. , 52. , 29. , 33. , 33.4, 33.4])"
      ]
     },
     "execution_count": 87,
     "metadata": {},
     "output_type": "execute_result"
    }
   ],
   "source": [
    "a"
   ]
  },
  {
   "cell_type": "code",
   "execution_count": 88,
   "id": "3d916bc7-9dc9-41b8-84ee-096af6369aff",
   "metadata": {},
   "outputs": [],
   "source": [
    "a = np.array([10, 20, 30, 40, 50], dtype=complex64)"
   ]
  },
  {
   "cell_type": "code",
   "execution_count": 89,
   "id": "09a75cb4-a259-46bc-bb25-c868d373be92",
   "metadata": {},
   "outputs": [
    {
     "data": {
      "text/plain": [
       "array([10.+0.j, 20.+0.j, 30.+0.j, 40.+0.j, 50.+0.j], dtype=complex64)"
      ]
     },
     "execution_count": 89,
     "metadata": {},
     "output_type": "execute_result"
    }
   ],
   "source": [
    "a"
   ]
  },
  {
   "cell_type": "code",
   "execution_count": 90,
   "id": "514e35f9-f820-439f-8ed0-0557bf08f987",
   "metadata": {},
   "outputs": [
    {
     "data": {
      "text/plain": [
       "array([0, 0, 1, 0, 1, 0], dtype=int32)"
      ]
     },
     "execution_count": 90,
     "metadata": {},
     "output_type": "execute_result"
    }
   ],
   "source": [
    "a = np.array([10, 20, 25, 30, 35, 40])\n",
    "a%2"
   ]
  },
  {
   "cell_type": "markdown",
   "id": "1e8374d9-6e32-494d-869f-390c515a34c1",
   "metadata": {},
   "source": [
    "(1) Create a NumPy array of 30 random ints from 0-1000.\n",
    "(2) Find the numbers that are < mean-std or > mean+std, and set them to\n",
    "    be nan\n",
    "(3) Now change those nan values to be the mean of the array's\n",
    "    elements.\n"
   ]
  },
  {
   "cell_type": "code",
   "execution_count": 92,
   "id": "6e8c9a32-99c5-4338-981f-bacaea1d61e7",
   "metadata": {},
   "outputs": [
    {
     "name": "stdout",
     "output_type": "stream",
     "text": [
      "%pylab is deprecated, use %matplotlib inline and import the required libraries.\n",
      "Populating the interactive namespace from numpy and matplotlib\n"
     ]
    }
   ],
   "source": [
    "%pylab inline"
   ]
  },
  {
   "cell_type": "code",
   "execution_count": 93,
   "id": "3103a91d-65ec-4586-97da-057c88fbad31",
   "metadata": {},
   "outputs": [],
   "source": [
    "a = np.random.randint(0, 1000, 30)"
   ]
  },
  {
   "cell_type": "code",
   "execution_count": 94,
   "id": "79209f81-2337-4ad6-846b-50a2e0147083",
   "metadata": {},
   "outputs": [
    {
     "data": {
      "text/plain": [
       "array([263, 428,   8, 704, 510, 267, 702, 259, 365, 697, 621, 414, 538,\n",
       "       612, 814, 738, 399, 635, 192,  28, 635, 355, 810, 138, 386, 633,\n",
       "       128,  96, 504, 210])"
      ]
     },
     "execution_count": 94,
     "metadata": {},
     "output_type": "execute_result"
    }
   ],
   "source": [
    "a"
   ]
  },
  {
   "cell_type": "code",
   "execution_count": 95,
   "id": "9a483f63-ddcf-42ed-8c43-f9d54a49c0ea",
   "metadata": {},
   "outputs": [],
   "source": [
    "a = a.astype(np.float64)\n",
    "a[(a < a.mean() - a.std()) |(a>a.mean() + a.std())] = nan"
   ]
  },
  {
   "cell_type": "code",
   "execution_count": 96,
   "id": "baa74f13-0de2-4548-9e8b-eb89a3e45c9c",
   "metadata": {},
   "outputs": [
    {
     "ename": "TypeError",
     "evalue": "ufunc 'invert' not supported for the input types, and the inputs could not be safely coerced to any supported types according to the casting rule ''safe''",
     "output_type": "error",
     "traceback": [
      "\u001b[1;31m---------------------------------------------------------------------------\u001b[0m",
      "\u001b[1;31mTypeError\u001b[0m                                 Traceback (most recent call last)",
      "Cell \u001b[1;32mIn[96], line 1\u001b[0m\n\u001b[1;32m----> 1\u001b[0m a[np\u001b[38;5;241m.\u001b[39misnan(a)] \u001b[38;5;241m=\u001b[39m a[\u001b[38;5;241m~\u001b[39mnp\u001b[38;5;241m.\u001b[39misnan(a)\u001b[38;5;241m.\u001b[39mmean()]\n",
      "\u001b[1;31mTypeError\u001b[0m: ufunc 'invert' not supported for the input types, and the inputs could not be safely coerced to any supported types according to the casting rule ''safe''"
     ]
    }
   ],
   "source": [
    "a[np.isnan(a)] = a[~np.isnan(a).mean()]"
   ]
  },
  {
   "cell_type": "code",
   "execution_count": null,
   "id": "032f7bcb-4b2a-4ab4-84fa-13f5bd5c6d2b",
   "metadata": {},
   "outputs": [],
   "source": [
    "~np.isnan(a).mean()"
   ]
  },
  {
   "cell_type": "markdown",
   "id": "2506d640-d58e-4f3a-84b7-12a153543380",
   "metadata": {},
   "source": [
    "# Exercise 8"
   ]
  },
  {
   "cell_type": "markdown",
   "id": "23823df4-302a-4b5a-80ec-ca9fb4182170",
   "metadata": {},
   "source": [
    "(1) Create a 2-dimensional NumPy array of 45 random integers, from 0-100. Make the shape 5X9.\n",
    "(2) Retrieve the elements at row index 2.\n",
    "(3) Retrieve the elements at column index 3.\n",
    "(4) Retrieve the elements at row indexes 1 and 4.\n",
    "(5) Retrieve the elements at column indexes 1 and 4.\n",
    "(6) Get the mean of the even numbers in row index 4.\n",
    "(7) Get the mean of the odd numbers in column index 4.\n"
   ]
  },
  {
   "cell_type": "code",
   "execution_count": null,
   "id": "e6ff5112-dfd8-4283-b0d7-faa1e39b6c96",
   "metadata": {},
   "outputs": [],
   "source": [
    "a = np.random.randint(0, 100, [5,9])"
   ]
  },
  {
   "cell_type": "code",
   "execution_count": null,
   "id": "5ef62f4b-4f9f-4b15-afbb-fee1677490f1",
   "metadata": {},
   "outputs": [],
   "source": [
    "a"
   ]
  },
  {
   "cell_type": "code",
   "execution_count": null,
   "id": "229d189b-6532-4e64-a1ae-a27a5755a0a9",
   "metadata": {},
   "outputs": [],
   "source": [
    "a[2]"
   ]
  },
  {
   "cell_type": "code",
   "execution_count": null,
   "id": "1a246620-484d-42ab-8d55-88cc4caa3eae",
   "metadata": {},
   "outputs": [],
   "source": [
    "a[:,3]"
   ]
  },
  {
   "cell_type": "code",
   "execution_count": null,
   "id": "2b21890d-7719-4910-af0b-e06156fb6e35",
   "metadata": {},
   "outputs": [],
   "source": [
    "a[1][4]"
   ]
  },
  {
   "cell_type": "code",
   "execution_count": null,
   "id": "332c18a1-7af6-4e72-b944-ec3950db99be",
   "metadata": {},
   "outputs": [],
   "source": [
    "a[[1,4]]"
   ]
  },
  {
   "cell_type": "code",
   "execution_count": null,
   "id": "276d00a7-3829-4682-885a-91b054689120",
   "metadata": {},
   "outputs": [],
   "source": [
    "a[4][a[4] % 2 == 0]"
   ]
  },
  {
   "cell_type": "code",
   "execution_count": null,
   "id": "83695d44-c9bb-4375-8738-8a040ea904f1",
   "metadata": {},
   "outputs": [],
   "source": [
    "a = np.random.randint(0, 100, [6,4])\n",
    "a"
   ]
  },
  {
   "cell_type": "code",
   "execution_count": null,
   "id": "8983069e-f511-46af-a828-cbe0ef575cfd",
   "metadata": {},
   "outputs": [],
   "source": [
    "a[2,3] = 99"
   ]
  },
  {
   "cell_type": "code",
   "execution_count": null,
   "id": "b21fa7cb-c2f4-4929-95f4-961df2565d14",
   "metadata": {},
   "outputs": [],
   "source": [
    "a"
   ]
  },
  {
   "cell_type": "code",
   "execution_count": null,
   "id": "ad6d9702-dff8-4be3-a55b-d1da9cf18f56",
   "metadata": {},
   "outputs": [],
   "source": [
    "a.shape"
   ]
  },
  {
   "cell_type": "code",
   "execution_count": null,
   "id": "d2df27dc-0726-4b12-82d9-7b81a45b55f0",
   "metadata": {},
   "outputs": [],
   "source": [
    "b = a.reshape(4,6)"
   ]
  },
  {
   "cell_type": "code",
   "execution_count": null,
   "id": "a238e6f0-709d-407c-a041-74531f073bec",
   "metadata": {},
   "outputs": [],
   "source": [
    "b"
   ]
  },
  {
   "cell_type": "code",
   "execution_count": null,
   "id": "8137af9b-51ed-4771-903b-4a0c8d2cb058",
   "metadata": {},
   "outputs": [],
   "source": [
    "b[1,1] = 777"
   ]
  },
  {
   "cell_type": "code",
   "execution_count": null,
   "id": "f96741dc-a2c8-4744-b105-2859bdaf003a",
   "metadata": {},
   "outputs": [],
   "source": [
    "a"
   ]
  },
  {
   "cell_type": "code",
   "execution_count": null,
   "id": "545b6c5c-d1cc-4c4c-95fb-54d403630f3d",
   "metadata": {},
   "outputs": [],
   "source": [
    "a.flags"
   ]
  },
  {
   "cell_type": "code",
   "execution_count": null,
   "id": "9cc370e8-f084-4d77-bdd0-6992778dea96",
   "metadata": {},
   "outputs": [],
   "source": [
    "b.flags"
   ]
  },
  {
   "cell_type": "code",
   "execution_count": null,
   "id": "fbdb7dd1-0663-46e7-a103-05f40feb61d0",
   "metadata": {},
   "outputs": [],
   "source": [
    "a is b"
   ]
  },
  {
   "cell_type": "code",
   "execution_count": null,
   "id": "7ab769dc-eef4-4c22-a5f6-6e79ce570e36",
   "metadata": {},
   "outputs": [],
   "source": [
    "a[2] = [1,2,3,4]\n",
    "a"
   ]
  },
  {
   "cell_type": "code",
   "execution_count": null,
   "id": "a40c163f-f232-4e71-a924-01ceea22b117",
   "metadata": {},
   "outputs": [],
   "source": [
    "type(a[2])"
   ]
  },
  {
   "cell_type": "code",
   "execution_count": null,
   "id": "46ca8c3e-e7cd-4601-b2d3-d3b044b61319",
   "metadata": {},
   "outputs": [],
   "source": [
    "a[2] = '5,6,7,8'.split(',')"
   ]
  },
  {
   "cell_type": "code",
   "execution_count": null,
   "id": "4b1d49e0-6911-419b-bd18-ec802807e9f7",
   "metadata": {},
   "outputs": [],
   "source": [
    "a"
   ]
  },
  {
   "cell_type": "code",
   "execution_count": null,
   "id": "8eaeeb08-900f-4bf9-854c-629cdc275ead",
   "metadata": {},
   "outputs": [],
   "source": [
    "a[2, [1,3]] = 543"
   ]
  },
  {
   "cell_type": "code",
   "execution_count": null,
   "id": "c2bd3f43-3e92-4547-ac5e-b8c8ad9cfa7a",
   "metadata": {},
   "outputs": [],
   "source": [
    "a"
   ]
  },
  {
   "cell_type": "code",
   "execution_count": null,
   "id": "0d064973-224b-4800-97ce-958f6f251a78",
   "metadata": {},
   "outputs": [],
   "source": [
    "a[3][a[3] % 2 == 0]  = 0"
   ]
  },
  {
   "cell_type": "code",
   "execution_count": null,
   "id": "5e1af458-a4df-481a-8874-1f5b1f52fb04",
   "metadata": {},
   "outputs": [],
   "source": [
    "a"
   ]
  },
  {
   "cell_type": "code",
   "execution_count": null,
   "id": "6aea2688-0c82-488c-a7b2-a8f8ea115a59",
   "metadata": {},
   "outputs": [],
   "source": [
    "a[4] % 2 == 0"
   ]
  },
  {
   "cell_type": "code",
   "execution_count": null,
   "id": "370ed804-3160-4b97-ba99-300dda0c4ef6",
   "metadata": {},
   "outputs": [],
   "source": [
    "a[5][a[4] %2 == 0] = 222\n"
   ]
  },
  {
   "cell_type": "code",
   "execution_count": null,
   "id": "f3fb51e2-1464-460d-9dfb-19c75115cc7e",
   "metadata": {},
   "outputs": [],
   "source": [
    "a"
   ]
  },
  {
   "cell_type": "code",
   "execution_count": null,
   "id": "80915816-dc42-4799-be5b-07740b40d714",
   "metadata": {},
   "outputs": [],
   "source": [
    "a = np.random.randint(0,100,10)"
   ]
  },
  {
   "cell_type": "code",
   "execution_count": null,
   "id": "d9f5b655-ccb4-4990-abf7-414a632123a8",
   "metadata": {},
   "outputs": [],
   "source": [
    "a"
   ]
  },
  {
   "cell_type": "code",
   "execution_count": null,
   "id": "a65618b9-e992-4f3d-84b0-c45cc341829a",
   "metadata": {},
   "outputs": [],
   "source": [
    "a.min()"
   ]
  },
  {
   "cell_type": "code",
   "execution_count": null,
   "id": "7e19789b-dad4-4a2c-9247-add8c92a7948",
   "metadata": {},
   "outputs": [],
   "source": [
    "a.max()"
   ]
  },
  {
   "cell_type": "code",
   "execution_count": null,
   "id": "1eb6a569-16c2-4ec4-afde-3e88b870c844",
   "metadata": {},
   "outputs": [],
   "source": [
    "a = random.randint(0,100, [6,6])"
   ]
  },
  {
   "cell_type": "code",
   "execution_count": null,
   "id": "024c0af3-1ef7-46d7-8a20-a9251908a801",
   "metadata": {},
   "outputs": [],
   "source": [
    "a"
   ]
  },
  {
   "cell_type": "code",
   "execution_count": null,
   "id": "a1fa0e65-e473-4c46-b1fe-8e1cec451f32",
   "metadata": {},
   "outputs": [],
   "source": [
    "a.min(axis  = 0)"
   ]
  },
  {
   "cell_type": "code",
   "execution_count": null,
   "id": "d74ae1aa-ab88-47dc-b072-8017699939dc",
   "metadata": {},
   "outputs": [],
   "source": [
    "a.min(axis = 0)"
   ]
  },
  {
   "cell_type": "code",
   "execution_count": null,
   "id": "73e68f91-2659-4b61-8e6e-7b3497c36428",
   "metadata": {},
   "outputs": [],
   "source": [
    "a.sum(axis = 0)"
   ]
  },
  {
   "cell_type": "code",
   "execution_count": null,
   "id": "fd8a1390-fb91-438a-b38e-e26399636bee",
   "metadata": {},
   "outputs": [],
   "source": [
    "a = np.random.randint(0,100,10)\n",
    "a"
   ]
  },
  {
   "cell_type": "code",
   "execution_count": null,
   "id": "0f57d1ce-d099-497e-a852-63cb11415d2d",
   "metadata": {},
   "outputs": [],
   "source": [
    "a.min()"
   ]
  },
  {
   "cell_type": "code",
   "execution_count": null,
   "id": "b997ae2c-76b3-49dd-b956-8aed02890b78",
   "metadata": {},
   "outputs": [],
   "source": [
    "a.argmin()"
   ]
  },
  {
   "cell_type": "code",
   "execution_count": null,
   "id": "b83bbea7-b4aa-44a4-a372-6365cf7a9701",
   "metadata": {},
   "outputs": [],
   "source": [
    "a.max()"
   ]
  },
  {
   "cell_type": "code",
   "execution_count": null,
   "id": "698ded14-6d21-4557-b191-b952dc73c595",
   "metadata": {},
   "outputs": [],
   "source": [
    "a.argmax()"
   ]
  },
  {
   "cell_type": "code",
   "execution_count": null,
   "id": "c0bd1285-c7bb-405c-b0a6-90650edfda03",
   "metadata": {},
   "outputs": [],
   "source": [
    "a = np.array([0,0,0,0,0])\n",
    "a.min()"
   ]
  },
  {
   "cell_type": "code",
   "execution_count": null,
   "id": "e5cdc15b-6a64-47b0-b1fe-f831ea57d858",
   "metadata": {},
   "outputs": [],
   "source": [
    "a.argmin()"
   ]
  },
  {
   "cell_type": "code",
   "execution_count": null,
   "id": "4ade9951-c9e6-40aa-b720-eb2390a3584c",
   "metadata": {},
   "outputs": [],
   "source": [
    "a = np.random.randint(0, 100, [6,6])"
   ]
  },
  {
   "cell_type": "code",
   "execution_count": null,
   "id": "cdd71bd5-80e7-477c-8193-a97d8ef3e120",
   "metadata": {},
   "outputs": [],
   "source": [
    "a"
   ]
  },
  {
   "cell_type": "code",
   "execution_count": null,
   "id": "fd7347f8-48a5-42e0-ac7a-91d11c71a3ae",
   "metadata": {},
   "outputs": [],
   "source": [
    "a.min()"
   ]
  },
  {
   "cell_type": "code",
   "execution_count": null,
   "id": "369db5fb-3201-4a9d-9d82-232c94d2682f",
   "metadata": {},
   "outputs": [],
   "source": [
    "a.min(axis=0)"
   ]
  },
  {
   "cell_type": "code",
   "execution_count": null,
   "id": "f7b24934-0f90-4fb4-9205-e5dc8d534ef4",
   "metadata": {},
   "outputs": [],
   "source": [
    "a.argmin()"
   ]
  },
  {
   "cell_type": "code",
   "execution_count": null,
   "id": "41d2fbd0-f899-4202-83d1-88a7901c8e27",
   "metadata": {},
   "outputs": [],
   "source": [
    "a.argmin(axis=0)"
   ]
  },
  {
   "cell_type": "code",
   "execution_count": null,
   "id": "a299c71c-037d-49da-8caa-92f6dad5113e",
   "metadata": {},
   "outputs": [],
   "source": [
    "a.argmax()"
   ]
  },
  {
   "cell_type": "code",
   "execution_count": null,
   "id": "cd41c5e0-5298-498e-8f5c-6cdcdef57290",
   "metadata": {},
   "outputs": [],
   "source": [
    "a.argmax(axis=0)"
   ]
  },
  {
   "cell_type": "code",
   "execution_count": null,
   "id": "8d075c1b-092c-42eb-9c9e-dcf2ec6d39eb",
   "metadata": {},
   "outputs": [],
   "source": [
    "a.argmin(axis=1)"
   ]
  },
  {
   "cell_type": "code",
   "execution_count": null,
   "id": "3fb184eb-471a-4a96-a4ad-c6c7d22e52e3",
   "metadata": {},
   "outputs": [],
   "source": [
    "a.argmax(axis=1)"
   ]
  },
  {
   "cell_type": "code",
   "execution_count": null,
   "id": "638997a7-96c5-41f4-99be-9a697b79b661",
   "metadata": {},
   "outputs": [],
   "source": [
    "a.sum(axis=0)"
   ]
  },
  {
   "cell_type": "code",
   "execution_count": null,
   "id": "20ea8f11-a75a-498c-8014-556766255f2e",
   "metadata": {},
   "outputs": [],
   "source": [
    "a.sum(axis=1)"
   ]
  },
  {
   "cell_type": "code",
   "execution_count": null,
   "id": "bd62f19a-c30b-4ba7-88ce-e4d36f224197",
   "metadata": {},
   "outputs": [],
   "source": [
    "a.std(axis=0)"
   ]
  },
  {
   "cell_type": "code",
   "execution_count": null,
   "id": "8a49bb74-2451-4451-b03a-71770b685b8b",
   "metadata": {},
   "outputs": [],
   "source": [
    "a.std(axis=1)"
   ]
  },
  {
   "cell_type": "code",
   "execution_count": null,
   "id": "1ba9cf86-4742-4583-bdd5-897594686294",
   "metadata": {},
   "outputs": [],
   "source": [
    "a = np.random.randint(0, 100, [6,6])\n",
    "a"
   ]
  },
  {
   "cell_type": "code",
   "execution_count": null,
   "id": "7cb19937-5aa7-4395-9a8c-3f60d09b4947",
   "metadata": {},
   "outputs": [],
   "source": [
    "a.mean()"
   ]
  },
  {
   "cell_type": "code",
   "execution_count": null,
   "id": "e8113e8d-684c-4cdf-bb08-f3984ef2ada6",
   "metadata": {},
   "outputs": [],
   "source": [
    "a.mean(axis=0)"
   ]
  },
  {
   "cell_type": "code",
   "execution_count": null,
   "id": "6a3159f9-4235-4702-9437-a75cd85b63af",
   "metadata": {},
   "outputs": [],
   "source": [
    "a.shape =  (36,)"
   ]
  },
  {
   "cell_type": "code",
   "execution_count": null,
   "id": "fe557b10-c835-440f-90f1-8de3f30593b0",
   "metadata": {},
   "outputs": [],
   "source": [
    "a"
   ]
  },
  {
   "cell_type": "code",
   "execution_count": null,
   "id": "6af2725a-2eb7-4fc5-9d63-ac08000c0545",
   "metadata": {},
   "outputs": [],
   "source": [
    "a.shape = (6,6)"
   ]
  },
  {
   "cell_type": "code",
   "execution_count": null,
   "id": "7b21df6f-b344-4686-83fe-bc4ec6523190",
   "metadata": {},
   "outputs": [],
   "source": [
    "a"
   ]
  },
  {
   "cell_type": "code",
   "execution_count": null,
   "id": "9f71c63d-43d5-4621-a2e5-40e6727ea371",
   "metadata": {},
   "outputs": [],
   "source": [
    "a.shape = (a.size,)\n",
    "a.shape"
   ]
  },
  {
   "cell_type": "code",
   "execution_count": null,
   "id": "52361110-73ec-480d-9dc6-cd023e6d61d9",
   "metadata": {},
   "outputs": [],
   "source": [
    "a"
   ]
  },
  {
   "cell_type": "code",
   "execution_count": null,
   "id": "1675bd98-cf11-42e7-8b30-4b1a2de53f7e",
   "metadata": {},
   "outputs": [],
   "source": [
    "a.shape = (6,6)\n",
    "a"
   ]
  },
  {
   "cell_type": "code",
   "execution_count": null,
   "id": "26a65763-25fe-42cd-9ad0-f419ac4a2f0e",
   "metadata": {},
   "outputs": [],
   "source": [
    "b = a.flatten()"
   ]
  },
  {
   "cell_type": "code",
   "execution_count": null,
   "id": "e058c83a-da23-440b-a232-6811dd8ed220",
   "metadata": {},
   "outputs": [],
   "source": [
    "b.flags"
   ]
  },
  {
   "cell_type": "code",
   "execution_count": null,
   "id": "03ca2eb9-6463-4315-b27c-5e085239d587",
   "metadata": {},
   "outputs": [],
   "source": [
    "for one_item in a:\n",
    "    print(one_item)"
   ]
  },
  {
   "cell_type": "code",
   "execution_count": null,
   "id": "14615063-8bf0-4e98-a4cd-da3a064e22e9",
   "metadata": {},
   "outputs": [],
   "source": [
    "for one_item in a.flat:\n",
    "    print(one_item, end=' ')"
   ]
  },
  {
   "cell_type": "code",
   "execution_count": null,
   "id": "8423c87d-ea71-4c59-8aa5-7b08fcf367b7",
   "metadata": {},
   "outputs": [],
   "source": [
    "a = np.random.randint(0, 100, [4,7])\n",
    "a"
   ]
  },
  {
   "cell_type": "code",
   "execution_count": null,
   "id": "f045103e-5355-4088-a514-b8558e0e08cb",
   "metadata": {},
   "outputs": [],
   "source": [
    "a.transpose()"
   ]
  },
  {
   "cell_type": "code",
   "execution_count": null,
   "id": "0ae914ba-d1a2-42bc-9bc8-3e7e8514f7ea",
   "metadata": {},
   "outputs": [],
   "source": [
    "b = a.transpose()"
   ]
  },
  {
   "cell_type": "code",
   "execution_count": null,
   "id": "4a944492-d522-42ea-9c47-f0fba8a67c89",
   "metadata": {},
   "outputs": [],
   "source": [
    "a"
   ]
  },
  {
   "cell_type": "code",
   "execution_count": null,
   "id": "85f9a114-5065-4eff-a349-bf43c072094c",
   "metadata": {},
   "outputs": [],
   "source": [
    "b"
   ]
  },
  {
   "cell_type": "code",
   "execution_count": null,
   "id": "09d0b7a2-4d40-4a15-8c8b-01c409517955",
   "metadata": {},
   "outputs": [],
   "source": [
    "b.flags"
   ]
  },
  {
   "cell_type": "code",
   "execution_count": null,
   "id": "f9f69313-0842-4f19-a19e-fb27410f7db1",
   "metadata": {},
   "outputs": [],
   "source": [
    "b[1,1] = 999\n",
    "b[2,2] = 888\n",
    "b"
   ]
  },
  {
   "cell_type": "code",
   "execution_count": null,
   "id": "9b16a6ca-f046-49b6-81cd-ac705fd8e348",
   "metadata": {},
   "outputs": [],
   "source": [
    "a"
   ]
  },
  {
   "cell_type": "code",
   "execution_count": null,
   "id": "fc785b13-21ec-44c5-a82d-2e1b50224e91",
   "metadata": {},
   "outputs": [],
   "source": [
    "a.T"
   ]
  },
  {
   "cell_type": "code",
   "execution_count": null,
   "id": "ab39a75f-4dd5-4de1-a5c3-53f116f7c500",
   "metadata": {},
   "outputs": [],
   "source": [
    "a.T"
   ]
  },
  {
   "cell_type": "code",
   "execution_count": null,
   "id": "7a6b15cc-c2a2-43e5-a62f-2874ab206246",
   "metadata": {},
   "outputs": [],
   "source": [
    "a = a.T"
   ]
  },
  {
   "cell_type": "code",
   "execution_count": null,
   "id": "05e68805-0800-444c-9fe1-c8a1f6b69d56",
   "metadata": {},
   "outputs": [],
   "source": [
    "a"
   ]
  },
  {
   "cell_type": "code",
   "execution_count": null,
   "id": "cbdb987c-e63e-4d31-aa38-07b37cc4a7ba",
   "metadata": {},
   "outputs": [],
   "source": [
    "a.T"
   ]
  },
  {
   "cell_type": "code",
   "execution_count": null,
   "id": "c0b3d86e-8491-426f-827a-d43510e4008f",
   "metadata": {},
   "outputs": [],
   "source": [
    "np.random.seed(1)\n",
    "a=np.random.randint(0, 100, [6,6])"
   ]
  },
  {
   "cell_type": "code",
   "execution_count": 126,
   "id": "a7fa53f1-8e07-49bd-b876-f41670872bdf",
   "metadata": {},
   "outputs": [
    {
     "data": {
      "text/plain": [
       "array([263., 428.,  nan,  nan, 510., 267.,  nan, 259., 365.,  nan, 621.,\n",
       "       414., 538., 612.,  nan,  nan, 399., 635.,  nan,  nan, 635., 355.,\n",
       "        nan,  nan, 386., 633.,  nan,  nan, 504., 210.])"
      ]
     },
     "execution_count": 126,
     "metadata": {},
     "output_type": "execute_result"
    }
   ],
   "source": [
    "a"
   ]
  },
  {
   "cell_type": "code",
   "execution_count": 128,
   "id": "6d787602-28b9-4be6-9fbe-122a5563a092",
   "metadata": {},
   "outputs": [
    {
     "data": {
      "text/plain": [
       "array([263., 428.,  nan,  nan, 510., 267.,  nan, 259., 365.,  nan, 621.,\n",
       "       414., 538., 612.,  nan,  nan, 399., 635.,  nan,  nan, 635., 355.,\n",
       "        nan,  nan, 386., 633.,  nan,  nan, 504., 210.])"
      ]
     },
     "execution_count": 128,
     "metadata": {},
     "output_type": "execute_result"
    }
   ],
   "source": [
    "a"
   ]
  },
  {
   "cell_type": "code",
   "execution_count": 130,
   "id": "465e4762-1ef0-41d7-9d16-3406dccf997a",
   "metadata": {},
   "outputs": [
    {
     "data": {
      "text/plain": [
       "array([[88, 82,  6, 16, 62, 66],\n",
       "       [69, 94, 82, 32, 25, 94],\n",
       "       [55, 83, 26, 47, 76, 56],\n",
       "       [95, 25, 18, 35, 56, 26],\n",
       "       [48, 10, 40,  1, 38, 77],\n",
       "       [46, 68, 18, 45, 27,  6]])"
      ]
     },
     "execution_count": 130,
     "metadata": {},
     "output_type": "execute_result"
    }
   ],
   "source": [
    "a = np.random.randint(0, 100, [6,6])\n",
    "a"
   ]
  },
  {
   "cell_type": "code",
   "execution_count": 132,
   "id": "1d99da96-d027-43a5-b0ab-742540810529",
   "metadata": {},
   "outputs": [
    {
     "data": {
      "text/plain": [
       "array([[ 6, 16, 62, 66, 82, 88],\n",
       "       [25, 32, 69, 82, 94, 94],\n",
       "       [26, 47, 55, 56, 76, 83],\n",
       "       [18, 25, 26, 35, 56, 95],\n",
       "       [ 1, 10, 38, 40, 48, 77],\n",
       "       [ 6, 18, 27, 45, 46, 68]])"
      ]
     },
     "execution_count": 132,
     "metadata": {},
     "output_type": "execute_result"
    }
   ],
   "source": [
    "a.sort()\n",
    "a"
   ]
  },
  {
   "cell_type": "code",
   "execution_count": 134,
   "id": "810fd524-e5b6-489f-aaaa-665155bfd652",
   "metadata": {},
   "outputs": [],
   "source": [
    "a.sort(axis=1)\n"
   ]
  },
  {
   "cell_type": "code",
   "execution_count": 136,
   "id": "5a4228de-32e9-4d16-beb9-0ae618481920",
   "metadata": {},
   "outputs": [
    {
     "data": {
      "text/plain": [
       "array([[ 6, 16, 62, 66, 82, 88],\n",
       "       [25, 32, 69, 82, 94, 94],\n",
       "       [26, 47, 55, 56, 76, 83],\n",
       "       [18, 25, 26, 35, 56, 95],\n",
       "       [ 1, 10, 38, 40, 48, 77],\n",
       "       [ 6, 18, 27, 45, 46, 68]])"
      ]
     },
     "execution_count": 136,
     "metadata": {},
     "output_type": "execute_result"
    }
   ],
   "source": [
    "a"
   ]
  },
  {
   "cell_type": "code",
   "execution_count": 138,
   "id": "919865ea-4bd3-4ab5-8ee3-919f512233c7",
   "metadata": {},
   "outputs": [],
   "source": [
    "a.sort(axis = 0)"
   ]
  },
  {
   "cell_type": "code",
   "execution_count": 140,
   "id": "f6717326-d87e-4af7-ba00-3caa21f02b33",
   "metadata": {},
   "outputs": [
    {
     "data": {
      "text/plain": [
       "array([[ 1, 10, 26, 35, 46, 68],\n",
       "       [ 6, 16, 27, 40, 48, 77],\n",
       "       [ 6, 18, 38, 45, 56, 83],\n",
       "       [18, 25, 55, 56, 76, 88],\n",
       "       [25, 32, 62, 66, 82, 94],\n",
       "       [26, 47, 69, 82, 94, 95]])"
      ]
     },
     "execution_count": 140,
     "metadata": {},
     "output_type": "execute_result"
    }
   ],
   "source": [
    "a"
   ]
  },
  {
   "cell_type": "code",
   "execution_count": 142,
   "id": "202490ce-dfcf-47b2-82eb-60c52d2c4707",
   "metadata": {},
   "outputs": [
    {
     "name": "stdout",
     "output_type": "stream",
     "text": [
      "Help on built-in function sort:\n",
      "\n",
      "sort(...) method of numpy.ndarray instance\n",
      "    a.sort(axis=-1, kind=None, order=None)\n",
      "\n",
      "    Sort an array in-place. Refer to `numpy.sort` for full documentation.\n",
      "\n",
      "    Parameters\n",
      "    ----------\n",
      "    axis : int, optional\n",
      "        Axis along which to sort. Default is -1, which means sort along the\n",
      "        last axis.\n",
      "    kind : {'quicksort', 'mergesort', 'heapsort', 'stable'}, optional\n",
      "        Sorting algorithm. The default is 'quicksort'. Note that both 'stable'\n",
      "        and 'mergesort' use timsort under the covers and, in general, the\n",
      "        actual implementation will vary with datatype. The 'mergesort' option\n",
      "        is retained for backwards compatibility.\n",
      "\n",
      "        .. versionchanged:: 1.15.0\n",
      "           The 'stable' option was added.\n",
      "\n",
      "    order : str or list of str, optional\n",
      "        When `a` is an array with fields defined, this argument specifies\n",
      "        which fields to compare first, second, etc.  A single field can\n",
      "        be specified as a string, and not all fields need be specified,\n",
      "        but unspecified fields will still be used, in the order in which\n",
      "        they come up in the dtype, to break ties.\n",
      "\n",
      "    See Also\n",
      "    --------\n",
      "    numpy.sort : Return a sorted copy of an array.\n",
      "    numpy.argsort : Indirect sort.\n",
      "    numpy.lexsort : Indirect stable sort on multiple keys.\n",
      "    numpy.searchsorted : Find elements in sorted array.\n",
      "    numpy.partition: Partial sort.\n",
      "\n",
      "    Notes\n",
      "    -----\n",
      "    See `numpy.sort` for notes on the different sorting algorithms.\n",
      "\n",
      "    Examples\n",
      "    --------\n",
      "    >>> a = np.array([[1,4], [3,1]])\n",
      "    >>> a.sort(axis=1)\n",
      "    >>> a\n",
      "    array([[1, 4],\n",
      "           [1, 3]])\n",
      "    >>> a.sort(axis=0)\n",
      "    >>> a\n",
      "    array([[1, 3],\n",
      "           [1, 4]])\n",
      "\n",
      "    Use the `order` keyword to specify a field to use when sorting a\n",
      "    structured array:\n",
      "\n",
      "    >>> a = np.array([('a', 2), ('c', 1)], dtype=[('x', 'S1'), ('y', int)])\n",
      "    >>> a.sort(order='y')\n",
      "    >>> a\n",
      "    array([(b'c', 1), (b'a', 2)],\n",
      "          dtype=[('x', 'S1'), ('y', '<i8')])\n",
      "\n"
     ]
    }
   ],
   "source": [
    "help(a.sort)"
   ]
  },
  {
   "cell_type": "code",
   "execution_count": 144,
   "id": "c35c693f-ee0d-4985-8a54-7eb6deb7a147",
   "metadata": {},
   "outputs": [],
   "source": [
    "a = np.random.randint(0, 100, [3,4])\n",
    "b = np.random.randint(0, 100, [3,4])"
   ]
  },
  {
   "cell_type": "code",
   "execution_count": 146,
   "id": "482e0a96-f661-4a58-ae5b-91fd7a1d6afd",
   "metadata": {},
   "outputs": [
    {
     "data": {
      "text/plain": [
       "array([[58, 30, 11, 39],\n",
       "       [35, 32, 25, 52],\n",
       "       [48,  8, 37, 36]])"
      ]
     },
     "execution_count": 146,
     "metadata": {},
     "output_type": "execute_result"
    }
   ],
   "source": [
    "a"
   ]
  },
  {
   "cell_type": "code",
   "execution_count": 148,
   "id": "eefa684d-397f-4446-9b42-c5bc5080b92b",
   "metadata": {},
   "outputs": [
    {
     "data": {
      "text/plain": [
       "(3, 4)"
      ]
     },
     "execution_count": 148,
     "metadata": {},
     "output_type": "execute_result"
    }
   ],
   "source": [
    "a.shape"
   ]
  },
  {
   "cell_type": "code",
   "execution_count": 150,
   "id": "736d2c2e-f955-4ad2-91c2-459451470c56",
   "metadata": {},
   "outputs": [
    {
     "data": {
      "text/plain": [
       "(3, 4)"
      ]
     },
     "execution_count": 150,
     "metadata": {},
     "output_type": "execute_result"
    }
   ],
   "source": [
    "b\n",
    "b.shape"
   ]
  },
  {
   "cell_type": "code",
   "execution_count": 152,
   "id": "ad844bb1-ae30-460a-848b-3ad8f5b29f22",
   "metadata": {},
   "outputs": [
    {
     "data": {
      "text/plain": [
       "array([[ 62, 127,  14,  44],\n",
       "       [104,  79,  85,  91],\n",
       "       [ 83,  12,  47,  91]])"
      ]
     },
     "execution_count": 152,
     "metadata": {},
     "output_type": "execute_result"
    }
   ],
   "source": [
    "a + b"
   ]
  },
  {
   "cell_type": "code",
   "execution_count": 154,
   "id": "f240be36-9e35-416b-acd3-04765bb0f96f",
   "metadata": {},
   "outputs": [
    {
     "data": {
      "text/plain": [
       "array([[ 4, 97,  3,  5],\n",
       "       [69, 47, 60, 39],\n",
       "       [35,  4, 10, 55]])"
      ]
     },
     "execution_count": 154,
     "metadata": {},
     "output_type": "execute_result"
    }
   ],
   "source": [
    "b"
   ]
  },
  {
   "cell_type": "code",
   "execution_count": 158,
   "id": "aa082339-c791-411f-86af-ba66259afc9a",
   "metadata": {},
   "outputs": [],
   "source": [
    "c = np.concatenate([a,b])"
   ]
  },
  {
   "cell_type": "code",
   "execution_count": 166,
   "id": "24a47f59-33e5-4dc9-8dea-63b2625bd5e0",
   "metadata": {},
   "outputs": [
    {
     "data": {
      "text/plain": [
       "array([[58, 30, 11, 39, 35, 32, 25, 52],\n",
       "       [48,  8, 37, 36,  4, 97,  3,  5],\n",
       "       [69, 47, 60, 39, 35,  4, 10, 55]])"
      ]
     },
     "execution_count": 166,
     "metadata": {},
     "output_type": "execute_result"
    }
   ],
   "source": [
    "np.concatenate([a,b], axis=None).reshape(3,8)"
   ]
  },
  {
   "cell_type": "markdown",
   "id": "13ecb609-dffc-4447-baa1-a557ac0e30c7",
   "metadata": {},
   "source": [
    "(1) Create a 6x6 NumPy array with random integers from 0-100.\n",
    "(2) What is the mean of each column?\n",
    "(3) Replace all even numbers in the array with twice their values. (So\n",
    "    20 will become 40, and 40 will become 80.)\n",
    "(4) Once again, calculate the mean of each column\n",
    "(5) Now transpose the array and calculate the mean of each row.  Is it\n",
    "    the same as you got before?\n",
    "(6) Now sort each of the columns in the transposed array.  What does\n",
    "    it look like now?"
   ]
  },
  {
   "cell_type": "code",
   "execution_count": 169,
   "id": "75212cac-8bc3-4580-afd7-1984177c6f0d",
   "metadata": {},
   "outputs": [
    {
     "data": {
      "text/plain": [
       "array([[41, 84, 99,  6,  3, 49],\n",
       "       [ 8, 94, 89, 53, 58, 86],\n",
       "       [32, 35, 12, 45, 23, 53],\n",
       "       [67, 54, 67, 67,  5, 65],\n",
       "       [31, 26, 20, 34,  9, 78],\n",
       "       [33, 32, 91, 62, 12, 98]])"
      ]
     },
     "execution_count": 169,
     "metadata": {},
     "output_type": "execute_result"
    }
   ],
   "source": [
    "a = np.random.randint(0, 100, [6,6])\n",
    "a"
   ]
  },
  {
   "cell_type": "code",
   "execution_count": 171,
   "id": "ef13735d-a6bf-412f-9b92-143f31aa6bd1",
   "metadata": {},
   "outputs": [
    {
     "data": {
      "text/plain": [
       "array([47.        , 64.66666667, 33.33333333, 54.16666667, 33.        ,\n",
       "       54.66666667])"
      ]
     },
     "execution_count": 171,
     "metadata": {},
     "output_type": "execute_result"
    }
   ],
   "source": [
    "a.mean(axis = 1)"
   ]
  },
  {
   "cell_type": "code",
   "execution_count": 177,
   "id": "823694b3-c26f-4628-ad10-f14d4cbdbe33",
   "metadata": {},
   "outputs": [],
   "source": [
    "a[a % 2 == 0] = (a[a % 2 == 0] * 2)"
   ]
  },
  {
   "cell_type": "code",
   "execution_count": 181,
   "id": "7c5805ad-7abf-4df8-9388-a03c5337ee69",
   "metadata": {},
   "outputs": [
    {
     "data": {
      "text/plain": [
       "array([ 62.        , 105.66666667,  40.66666667,  63.16666667,\n",
       "        59.33333333,  88.66666667])"
      ]
     },
     "execution_count": 181,
     "metadata": {},
     "output_type": "execute_result"
    }
   ],
   "source": [
    "a.mean(axis = 1)"
   ]
  },
  {
   "cell_type": "code",
   "execution_count": 183,
   "id": "f3532064-5fee-4999-ad01-af0c825966fe",
   "metadata": {},
   "outputs": [
    {
     "data": {
      "text/plain": [
       "array([ 62.        , 105.66666667,  40.66666667,  63.16666667,\n",
       "        59.33333333,  88.66666667])"
      ]
     },
     "execution_count": 183,
     "metadata": {},
     "output_type": "execute_result"
    }
   ],
   "source": [
    "a.transpose().mean(axis = 0)"
   ]
  },
  {
   "cell_type": "code",
   "execution_count": 185,
   "id": "d169de02-768e-49f9-82fa-ac32a5251508",
   "metadata": {},
   "outputs": [
    {
     "data": {
      "text/plain": [
       "array([[ 41, 168,  99,  12,   3,  49],\n",
       "       [ 16, 188,  89,  53, 116, 172],\n",
       "       [ 64,  35,  24,  45,  23,  53],\n",
       "       [ 67, 108,  67,  67,   5,  65],\n",
       "       [ 31,  52,  40,  68,   9, 156],\n",
       "       [ 33,  64,  91, 124,  24, 196]])"
      ]
     },
     "execution_count": 185,
     "metadata": {},
     "output_type": "execute_result"
    }
   ],
   "source": [
    "a"
   ]
  },
  {
   "cell_type": "code",
   "execution_count": 191,
   "id": "cf052a72-6439-47eb-9f2b-8dc162464843",
   "metadata": {},
   "outputs": [],
   "source": [
    "a = a.transpose().sort(axis = 1)"
   ]
  },
  {
   "cell_type": "code",
   "execution_count": 195,
   "id": "3de0a374-def6-40dc-b088-7ab9f60d229e",
   "metadata": {},
   "outputs": [],
   "source": [
    "a"
   ]
  },
  {
   "cell_type": "code",
   "execution_count": 197,
   "id": "25037abc-d9e2-4eac-bb96-405d66f01417",
   "metadata": {},
   "outputs": [
    {
     "data": {
      "text/plain": [
       "array([0, 1, 2, 3, 4, 5, 6, 7, 8, 9])"
      ]
     },
     "execution_count": 197,
     "metadata": {},
     "output_type": "execute_result"
    }
   ],
   "source": [
    "a = np.arange(0, 10)\n",
    "a"
   ]
  },
  {
   "cell_type": "code",
   "execution_count": 217,
   "id": "fa5fbfe1-5b74-40b5-9f10-3769bb2c6aa4",
   "metadata": {},
   "outputs": [
    {
     "data": {
      "image/png": "[encoded data removed]",
      "text/plain": [
       "<Figure size 640x480 with 1 Axes>"
      ]
     },
     "metadata": {},
     "output_type": "display_data"
    }
   ],
   "source": [
    "plt.plot(a,a**2, 'bo--', label = 'squared')\n",
    "plt.plot(a, a**3, label = 'cubed')\n",
    "plt.legend()\n",
    "plt.xlabel('a')\n",
    "plt.ylabel('result')\n",
    "plt.title('My amazing plot')\n",
    "plt.show()"
   ]
  },
  {
   "cell_type": "code",
   "execution_count": null,
   "id": "fc7d527b-a7b2-4bac-aff4-9e7c28cdaa62",
   "metadata": {},
   "outputs": [],
   "source": []
  },
  {
   "cell_type": "code",
   "execution_count": 219,
   "id": "33205686-da4a-4873-9bb7-9087a5406b31",
   "metadata": {},
   "outputs": [
    {
     "data": {
      "image/png": "[encoded data removed]",
      "text/plain": [
       "<Figure size 640x480 with 1 Axes>"
      ]
     },
     "metadata": {},
     "output_type": "display_data"
    }
   ],
   "source": [
    "names = ['Vienna', 'Henry']\n",
    "ages = [ 2, 0]\n",
    "\n",
    "plt.bar(names, ages)\n",
    "plt.show()"
   ]
  },
  {
   "cell_type": "code",
   "execution_count": 221,
   "id": "4bafcf3d-d194-4b88-a3f1-e1a505b8480d",
   "metadata": {},
   "outputs": [
    {
     "data": {
      "text/plain": [
       "array([998.45280752, 434.85333353,  15.72967898,  80.52154145,\n",
       "       203.60035922, 355.67887673, 258.54013431, 816.64439267,\n",
       "       492.52173659, 677.2581072 , 555.93296534, 133.02154933])"
      ]
     },
     "execution_count": 221,
     "metadata": {},
     "output_type": "execute_result"
    }
   ],
   "source": [
    "sales = np.random.rand(12) * 1000\n",
    "sales"
   ]
  },
  {
   "cell_type": "code",
   "execution_count": 223,
   "id": "f9656319-6d04-4cc9-bf8d-48c35a5dc3d6",
   "metadata": {},
   "outputs": [],
   "source": [
    "months = list('JFMAMJJASOND')"
   ]
  },
  {
   "cell_type": "code",
   "execution_count": 225,
   "id": "f68e1e28-2ffb-42b1-b1e2-d069c9a9a2db",
   "metadata": {},
   "outputs": [
    {
     "data": {
      "text/plain": [
       "['J', 'F', 'M', 'A', 'M', 'J', 'J', 'A', 'S', 'O', 'N', 'D']"
      ]
     },
     "execution_count": 225,
     "metadata": {},
     "output_type": "execute_result"
    }
   ],
   "source": [
    "months"
   ]
  },
  {
   "cell_type": "code",
   "execution_count": 227,
   "id": "9daa8bd5-ab37-46ca-a7df-21b552daece7",
   "metadata": {},
   "outputs": [
    {
     "data": {
      "text/plain": [
       "<BarContainer object of 12 artists>"
      ]
     },
     "execution_count": 227,
     "metadata": {},
     "output_type": "execute_result"
    },
    {
     "data": {
      "image/png": "[encoded data removed]",
      "text/plain": [
       "<Figure size 640x480 with 1 Axes>"
      ]
     },
     "metadata": {},
     "output_type": "display_data"
    }
   ],
   "source": [
    "plt.bar(months, sales)"
   ]
  },
  {
   "cell_type": "code",
   "execution_count": 229,
   "id": "210dd339-8308-4b7d-a4c2-3abf210538aa",
   "metadata": {},
   "outputs": [
    {
     "data": {
      "text/plain": [
       "array([10, 20, 30, 20, 30, 40, 10, 10, 10, 40, 50, 60, 50, 60])"
      ]
     },
     "execution_count": 229,
     "metadata": {},
     "output_type": "execute_result"
    }
   ],
   "source": [
    "a = np.array([10, 20, 30, 20, 30, 40, 10 ,10, 10, 40, 50, 60, 50, 60])\n",
    "a"
   ]
  },
  {
   "cell_type": "code",
   "execution_count": 231,
   "id": "b7e79f70-4723-423d-8c6d-f42ababc1840",
   "metadata": {},
   "outputs": [
    {
     "data": {
      "image/png": "[encoded data removed]",
      "text/plain": [
       "<Figure size 640x480 with 1 Axes>"
      ]
     },
     "metadata": {},
     "output_type": "display_data"
    }
   ],
   "source": [
    "plt.hist(a)\n",
    "plt.show()"
   ]
  },
  {
   "cell_type": "code",
   "execution_count": 237,
   "id": "9b00e911-8d19-4919-a54c-ab178bc87c78",
   "metadata": {},
   "outputs": [
    {
     "name": "stdout",
     "output_type": "stream",
     "text": [
      "Help on function pie in module matplotlib.pyplot:\n",
      "\n",
      "pie(x: 'ArrayLike', explode: 'ArrayLike | None' = None, labels: 'Sequence[str] | None' = None, colors: 'ColorType | Sequence[ColorType] | None' = None, autopct: 'str | Callable[[float], str] | None' = None, pctdistance: 'float' = 0.6, shadow: 'bool' = False, labeldistance: 'float | None' = 1.1, startangle: 'float' = 0, radius: 'float' = 1, counterclock: 'bool' = True, wedgeprops: 'dict[str, Any] | None' = None, textprops: 'dict[str, Any] | None' = None, center: 'tuple[float, float]' = (0, 0), frame: 'bool' = False, rotatelabels: 'bool' = False, *, normalize: 'bool' = True, hatch: 'str | Sequence[str] | None' = None, data=None) -> 'tuple[list[Wedge], list[Text]] | tuple[list[Wedge], list[Text], list[Text]]'\n",
      "    Plot a pie chart.\n",
      "\n",
      "    Make a pie chart of array *x*.  The fractional area of each wedge is\n",
      "    given by ``x/sum(x)``.\n",
      "\n",
      "    The wedges are plotted counterclockwise, by default starting from the\n",
      "    x-axis.\n",
      "\n",
      "    Parameters\n",
      "    ----------\n",
      "    x : 1D array-like\n",
      "        The wedge sizes.\n",
      "\n",
      "    explode : array-like, default: None\n",
      "        If not *None*, is a ``len(x)`` array which specifies the fraction\n",
      "        of the radius with which to offset each wedge.\n",
      "\n",
      "    labels : list, default: None\n",
      "        A sequence of strings providing the labels for each wedge\n",
      "\n",
      "    colors : color or array-like of color, default: None\n",
      "        A sequence of colors through which the pie chart will cycle.  If\n",
      "        *None*, will use the colors in the currently active cycle.\n",
      "\n",
      "    hatch : str or list, default: None\n",
      "        Hatching pattern applied to all pie wedges or sequence of patterns\n",
      "        through which the chart will cycle. For a list of valid patterns,\n",
      "        see :doc:`/gallery/shapes_and_collections/hatch_style_reference`.\n",
      "\n",
      "        .. versionadded:: 3.7\n",
      "\n",
      "    autopct : None or str or callable, default: None\n",
      "        If not *None*, *autopct* is a string or function used to label the\n",
      "        wedges with their numeric value. The label will be placed inside\n",
      "        the wedge. If *autopct* is a format string, the label will be\n",
      "        ``fmt % pct``. If *autopct* is a function, then it will be called.\n",
      "\n",
      "    pctdistance : float, default: 0.6\n",
      "        The relative distance along the radius at which the text\n",
      "        generated by *autopct* is drawn. To draw the text outside the pie,\n",
      "        set *pctdistance* > 1. This parameter is ignored if *autopct* is\n",
      "        ``None``.\n",
      "\n",
      "    labeldistance : float or None, default: 1.1\n",
      "        The relative distance along the radius at which the labels are\n",
      "        drawn. To draw the labels inside the pie, set  *labeldistance* < 1.\n",
      "        If set to ``None``, labels are not drawn but are still stored for\n",
      "        use in `.legend`.\n",
      "\n",
      "    shadow : bool or dict, default: False\n",
      "        If bool, whether to draw a shadow beneath the pie. If dict, draw a shadow\n",
      "        passing the properties in the dict to `.Shadow`.\n",
      "\n",
      "        .. versionadded:: 3.8\n",
      "            *shadow* can be a dict.\n",
      "\n",
      "    startangle : float, default: 0 degrees\n",
      "        The angle by which the start of the pie is rotated,\n",
      "        counterclockwise from the x-axis.\n",
      "\n",
      "    radius : float, default: 1\n",
      "        The radius of the pie.\n",
      "\n",
      "    counterclock : bool, default: True\n",
      "        Specify fractions direction, clockwise or counterclockwise.\n",
      "\n",
      "    wedgeprops : dict, default: None\n",
      "        Dict of arguments passed to each `.patches.Wedge` of the pie.\n",
      "        For example, ``wedgeprops = {'linewidth': 3}`` sets the width of\n",
      "        the wedge border lines equal to 3. By default, ``clip_on=False``.\n",
      "        When there is a conflict between these properties and other\n",
      "        keywords, properties passed to *wedgeprops* take precedence.\n",
      "\n",
      "    textprops : dict, default: None\n",
      "        Dict of arguments to pass to the text objects.\n",
      "\n",
      "    center : (float, float), default: (0, 0)\n",
      "        The coordinates of the center of the chart.\n",
      "\n",
      "    frame : bool, default: False\n",
      "        Plot Axes frame with the chart if true.\n",
      "\n",
      "    rotatelabels : bool, default: False\n",
      "        Rotate each label to the angle of the corresponding slice if true.\n",
      "\n",
      "    normalize : bool, default: True\n",
      "        When *True*, always make a full pie by normalizing x so that\n",
      "        ``sum(x) == 1``. *False* makes a partial pie if ``sum(x) <= 1``\n",
      "        and raises a `ValueError` for ``sum(x) > 1``.\n",
      "\n",
      "    data : indexable object, optional\n",
      "        If given, the following parameters also accept a string ``s``, which is\n",
      "        interpreted as ``data[s]`` (unless this raises an exception):\n",
      "\n",
      "        *x*, *explode*, *labels*, *colors*\n",
      "\n",
      "    Returns\n",
      "    -------\n",
      "    patches : list\n",
      "        A sequence of `matplotlib.patches.Wedge` instances\n",
      "\n",
      "    texts : list\n",
      "        A list of the label `.Text` instances.\n",
      "\n",
      "    autotexts : list\n",
      "        A list of `.Text` instances for the numeric labels. This will only\n",
      "        be returned if the parameter *autopct* is not *None*.\n",
      "\n",
      "    Notes\n",
      "    -----\n",
      "    The pie chart will probably look best if the figure and Axes are\n",
      "    square, or the Axes aspect is equal.\n",
      "    This method sets the aspect ratio of the axis to \"equal\".\n",
      "    The Axes aspect ratio can be controlled with `.Axes.set_aspect`.\n",
      "\n"
     ]
    }
   ],
   "source": [
    "help(plt.pie)"
   ]
  },
  {
   "cell_type": "markdown",
   "id": "fe185502-8ede-43e0-90b8-3b7f69889783",
   "metadata": {},
   "source": [
    "(1) Read in the file cisco_stock.csv.  We're interestd in the open and\n",
    "    close rates for this period.\n",
    "\n",
    "(2) Show a scatter plot of open vs. close prices.\n",
    "\n",
    "(3) Show a line plot of closing prices.\n",
    "\n",
    "(4) Show a line plot of the difference between opening and closing\n",
    "    prices for this period.\n",
    "\n",
    "\n",
    "a = np.loadtxt('cisco_stock.csv', delimiter=',', usecols=[1,5])\n",
    "a\n",
    "\n",
    "diff = a[:, 1] - a[:, 0]\n",
    "diff\n",
    "\n",
    "plt.plot(np.arange(diff.size), diff)\n",
    "plt.plot()\n"
   ]
  },
  {
   "cell_type": "code",
   "execution_count": 252,
   "id": "3f4b87b5-fd5e-4aad-aac6-e59463b488d8",
   "metadata": {},
   "outputs": [
    {
     "ename": "ValueError",
     "evalue": "could not convert string '2017-12-22' to float32 at row 0, column 1.",
     "output_type": "error",
     "traceback": [
      "\u001b[1;31m---------------------------------------------------------------------------\u001b[0m",
      "\u001b[1;31mValueError\u001b[0m                                Traceback (most recent call last)",
      "Cell \u001b[1;32mIn[252], line 1\u001b[0m\n\u001b[1;32m----> 1\u001b[0m a \u001b[38;5;241m=\u001b[39m np\u001b[38;5;241m.\u001b[39mloadtxt(\u001b[38;5;124m'\u001b[39m\u001b[38;5;124m../data/cisco_stock.csv\u001b[39m\u001b[38;5;124m'\u001b[39m, delimiter\u001b[38;5;241m=\u001b[39m\u001b[38;5;124m'\u001b[39m\u001b[38;5;124m,\u001b[39m\u001b[38;5;124m'\u001b[39m, dtype\u001b[38;5;241m=\u001b[39mfloat32)\n\u001b[0;32m      2\u001b[0m a\n",
      "File \u001b[1;32m~\\anaconda3\\Lib\\site-packages\\numpy\\lib\\npyio.py:1373\u001b[0m, in \u001b[0;36mloadtxt\u001b[1;34m(fname, dtype, comments, delimiter, converters, skiprows, usecols, unpack, ndmin, encoding, max_rows, quotechar, like)\u001b[0m\n\u001b[0;32m   1370\u001b[0m \u001b[38;5;28;01mif\u001b[39;00m \u001b[38;5;28misinstance\u001b[39m(delimiter, \u001b[38;5;28mbytes\u001b[39m):\n\u001b[0;32m   1371\u001b[0m     delimiter \u001b[38;5;241m=\u001b[39m delimiter\u001b[38;5;241m.\u001b[39mdecode(\u001b[38;5;124m'\u001b[39m\u001b[38;5;124mlatin1\u001b[39m\u001b[38;5;124m'\u001b[39m)\n\u001b[1;32m-> 1373\u001b[0m arr \u001b[38;5;241m=\u001b[39m _read(fname, dtype\u001b[38;5;241m=\u001b[39mdtype, comment\u001b[38;5;241m=\u001b[39mcomment, delimiter\u001b[38;5;241m=\u001b[39mdelimiter,\n\u001b[0;32m   1374\u001b[0m             converters\u001b[38;5;241m=\u001b[39mconverters, skiplines\u001b[38;5;241m=\u001b[39mskiprows, usecols\u001b[38;5;241m=\u001b[39musecols,\n\u001b[0;32m   1375\u001b[0m             unpack\u001b[38;5;241m=\u001b[39munpack, ndmin\u001b[38;5;241m=\u001b[39mndmin, encoding\u001b[38;5;241m=\u001b[39mencoding,\n\u001b[0;32m   1376\u001b[0m             max_rows\u001b[38;5;241m=\u001b[39mmax_rows, quote\u001b[38;5;241m=\u001b[39mquotechar)\n\u001b[0;32m   1378\u001b[0m \u001b[38;5;28;01mreturn\u001b[39;00m arr\n",
      "File \u001b[1;32m~\\anaconda3\\Lib\\site-packages\\numpy\\lib\\npyio.py:1016\u001b[0m, in \u001b[0;36m_read\u001b[1;34m(fname, delimiter, comment, quote, imaginary_unit, usecols, skiplines, max_rows, converters, ndmin, unpack, dtype, encoding)\u001b[0m\n\u001b[0;32m   1013\u001b[0m     data \u001b[38;5;241m=\u001b[39m _preprocess_comments(data, comments, encoding)\n\u001b[0;32m   1015\u001b[0m \u001b[38;5;28;01mif\u001b[39;00m read_dtype_via_object_chunks \u001b[38;5;129;01mis\u001b[39;00m \u001b[38;5;28;01mNone\u001b[39;00m:\n\u001b[1;32m-> 1016\u001b[0m     arr \u001b[38;5;241m=\u001b[39m _load_from_filelike(\n\u001b[0;32m   1017\u001b[0m         data, delimiter\u001b[38;5;241m=\u001b[39mdelimiter, comment\u001b[38;5;241m=\u001b[39mcomment, quote\u001b[38;5;241m=\u001b[39mquote,\n\u001b[0;32m   1018\u001b[0m         imaginary_unit\u001b[38;5;241m=\u001b[39mimaginary_unit,\n\u001b[0;32m   1019\u001b[0m         usecols\u001b[38;5;241m=\u001b[39musecols, skiplines\u001b[38;5;241m=\u001b[39mskiplines, max_rows\u001b[38;5;241m=\u001b[39mmax_rows,\n\u001b[0;32m   1020\u001b[0m         converters\u001b[38;5;241m=\u001b[39mconverters, dtype\u001b[38;5;241m=\u001b[39mdtype,\n\u001b[0;32m   1021\u001b[0m         encoding\u001b[38;5;241m=\u001b[39mencoding, filelike\u001b[38;5;241m=\u001b[39mfilelike,\n\u001b[0;32m   1022\u001b[0m         byte_converters\u001b[38;5;241m=\u001b[39mbyte_converters)\n\u001b[0;32m   1024\u001b[0m \u001b[38;5;28;01melse\u001b[39;00m:\n\u001b[0;32m   1025\u001b[0m     \u001b[38;5;66;03m# This branch reads the file into chunks of object arrays and then\u001b[39;00m\n\u001b[0;32m   1026\u001b[0m     \u001b[38;5;66;03m# casts them to the desired actual dtype.  This ensures correct\u001b[39;00m\n\u001b[0;32m   1027\u001b[0m     \u001b[38;5;66;03m# string-length and datetime-unit discovery (like `arr.astype()`).\u001b[39;00m\n\u001b[0;32m   1028\u001b[0m     \u001b[38;5;66;03m# Due to chunking, certain error reports are less clear, currently.\u001b[39;00m\n\u001b[0;32m   1029\u001b[0m     \u001b[38;5;28;01mif\u001b[39;00m filelike:\n",
      "\u001b[1;31mValueError\u001b[0m: could not convert string '2017-12-22' to float32 at row 0, column 1."
     ]
    }
   ],
   "source": [
    "a = np.loadtxt('../data/cisco_stock.csv', delimiter=',', dtype=float32)\n",
    "a"
   ]
  },
  {
   "cell_type": "code",
   "execution_count": null,
   "id": "71790fcb-ab08-4179-b2bb-132911d7a290",
   "metadata": {},
   "outputs": [],
   "source": []
  }
 ],
 "metadata": {
  "kernelspec": {
   "display_name": "Python 3 (ipykernel)",
   "language": "python",
   "name": "python3"
  },
  "language_info": {
   "codemirror_mode": {
    "name": "ipython",
    "version": 3
   },
   "file_extension": ".py",
   "mimetype": "text/x-python",
   "name": "python",
   "nbconvert_exporter": "python",
   "pygments_lexer": "ipython3",
   "version": "3.12.4"
  }
 },
 "nbformat": 4,
 "nbformat_minor": 5
}
