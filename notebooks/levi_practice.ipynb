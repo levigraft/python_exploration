{
 "cells": [
  {
   "cell_type": "code",
   "execution_count": 19,
   "id": "7af726a0-2951-4521-9af6-a59c51be3067",
   "metadata": {},
   "outputs": [],
   "source": [
    "#Ask the user what today's weather is\n",
    "#And then:\n",
    "# (1) If it's rain or snow -- print something negative\n",
    "# (2) If it's sun -- print something positive\n",
    "# (3) If it's neither -- [rint that you don't know what it is"
   ]
  },
  {
   "cell_type": "code",
   "execution_count": 213,
   "id": "207891ee-d2f0-46cf-8076-3b6504c51c94",
   "metadata": {},
   "outputs": [],
   "source": [
    "import random"
   ]
  },
  {
   "cell_type": "code",
   "execution_count": 215,
   "id": "d1b9225b-cfb8-4910-860c-db390b3b6ccd",
   "metadata": {},
   "outputs": [
    {
     "name": "stdout",
     "output_type": "stream",
     "text": [
      "18\n"
     ]
    }
   ],
   "source": [
    "number = random.randint(0,100)\n",
    "print(number)"
   ]
  },
  {
   "cell_type": "code",
   "execution_count": 233,
   "id": "9815c3a5-d88a-4e9c-b642-db069bb6974b",
   "metadata": {},
   "outputs": [
    {
     "name": "stdout",
     "output_type": "stream",
     "text": [
      "10\n"
     ]
    },
    {
     "name": "stdin",
     "output_type": "stream",
     "text": [
      "Guess the number!: 10\n"
     ]
    },
    {
     "name": "stdout",
     "output_type": "stream",
     "text": [
      "You guessed correctly\n"
     ]
    }
   ],
   "source": [
    "number = random.randint(0,100)\n",
    "print(number)\n",
    "\n",
    "guess = int(input(\"Guess the number!:\"))\n",
    "if guess > number:\n",
    "    print(\"Guess is too high\")\n",
    "elif guess == number:\n",
    "    print(\"You guessed correctly\")\n",
    "else:\n",
    "    print(\"GUess is too low\")"
   ]
  },
  {
   "cell_type": "code",
   "execution_count": 235,
   "id": "f43ab67d-fdcc-4503-a5f8-bc107b37e896",
   "metadata": {},
   "outputs": [
    {
     "data": {
      "text/plain": [
       "10"
      ]
     },
     "execution_count": 235,
     "metadata": {},
     "output_type": "execute_result"
    }
   ],
   "source": [
    "s = '10'\n",
    "int(s)"
   ]
  },
  {
   "cell_type": "code",
   "execution_count": 237,
   "id": "9146cd70-bc8b-4c47-8b4c-d28974bce33c",
   "metadata": {},
   "outputs": [
    {
     "data": {
      "text/plain": [
       "255"
      ]
     },
     "execution_count": 237,
     "metadata": {},
     "output_type": "execute_result"
    }
   ],
   "source": [
    "0xff"
   ]
  },
  {
   "cell_type": "code",
   "execution_count": 239,
   "id": "1c64b555-8002-49ba-b468-e21eddfd969f",
   "metadata": {},
   "outputs": [
    {
     "data": {
      "text/plain": [
       "83"
      ]
     },
     "execution_count": 239,
     "metadata": {},
     "output_type": "execute_result"
    }
   ],
   "source": [
    "0o123"
   ]
  },
  {
   "cell_type": "code",
   "execution_count": 241,
   "id": "1fde76f7-684e-470a-831c-5abb10432498",
   "metadata": {},
   "outputs": [
    {
     "data": {
      "text/plain": [
       "'0xa'"
      ]
     },
     "execution_count": 241,
     "metadata": {},
     "output_type": "execute_result"
    }
   ],
   "source": [
    "hex(10)"
   ]
  },
  {
   "cell_type": "code",
   "execution_count": 243,
   "id": "a9ddd84f-92ce-41bc-8fbd-39e148ff4b4a",
   "metadata": {},
   "outputs": [
    {
     "data": {
      "text/plain": [
       "'0o377'"
      ]
     },
     "execution_count": 243,
     "metadata": {},
     "output_type": "execute_result"
    }
   ],
   "source": [
    "oct(255)"
   ]
  },
  {
   "cell_type": "code",
   "execution_count": 245,
   "id": "7b0a2a4f-5628-4322-84a8-2afb81af893b",
   "metadata": {},
   "outputs": [],
   "source": [
    "x = 10\n",
    "y = 3\n",
    "z = 10/3"
   ]
  },
  {
   "cell_type": "code",
   "execution_count": 247,
   "id": "3da2f168-2dd5-40ac-99be-0828f82a0f62",
   "metadata": {},
   "outputs": [
    {
     "data": {
      "text/plain": [
       "float"
      ]
     },
     "execution_count": 247,
     "metadata": {},
     "output_type": "execute_result"
    }
   ],
   "source": [
    "type(z)"
   ]
  },
  {
   "cell_type": "code",
   "execution_count": 249,
   "id": "aa70e383-d92a-410b-8af8-b2c44738ce3c",
   "metadata": {},
   "outputs": [
    {
     "data": {
      "text/plain": [
       "int"
      ]
     },
     "execution_count": 249,
     "metadata": {},
     "output_type": "execute_result"
    }
   ],
   "source": [
    "x = 10\n",
    "type(x)"
   ]
  },
  {
   "cell_type": "code",
   "execution_count": 251,
   "id": "7a088709-a4da-4497-8473-e8a493ff22d4",
   "metadata": {},
   "outputs": [
    {
     "data": {
      "text/plain": [
       "float"
      ]
     },
     "execution_count": 251,
     "metadata": {},
     "output_type": "execute_result"
    }
   ],
   "source": [
    "x = 10.0\n",
    "type(x)"
   ]
  },
  {
   "cell_type": "code",
   "execution_count": 253,
   "id": "8f396b98-c625-4a05-8d12-f530a3e8f591",
   "metadata": {},
   "outputs": [
    {
     "data": {
      "text/plain": [
       "13.1"
      ]
     },
     "execution_count": 253,
     "metadata": {},
     "output_type": "execute_result"
    }
   ],
   "source": [
    "x = 10\n",
    "y = 3.1\n",
    "\n",
    "x + y"
   ]
  },
  {
   "cell_type": "code",
   "execution_count": 255,
   "id": "73fe87a3-cd6c-4b79-8ad3-980f9560f1c8",
   "metadata": {},
   "outputs": [
    {
     "data": {
      "text/plain": [
       "6.9"
      ]
     },
     "execution_count": 255,
     "metadata": {},
     "output_type": "execute_result"
    }
   ],
   "source": [
    "x - y"
   ]
  },
  {
   "cell_type": "code",
   "execution_count": 257,
   "id": "21e541bf-a869-43b8-a14c-1e3e5d8cb433",
   "metadata": {},
   "outputs": [
    {
     "data": {
      "text/plain": [
       "31.0"
      ]
     },
     "execution_count": 257,
     "metadata": {},
     "output_type": "execute_result"
    }
   ],
   "source": [
    "x * y"
   ]
  },
  {
   "cell_type": "code",
   "execution_count": 259,
   "id": "0e2ecb54-1fc3-4aef-95d3-5f04c32c0e65",
   "metadata": {},
   "outputs": [
    {
     "data": {
      "text/plain": [
       "3.225806451612903"
      ]
     },
     "execution_count": 259,
     "metadata": {},
     "output_type": "execute_result"
    }
   ],
   "source": [
    "x / y"
   ]
  },
  {
   "cell_type": "code",
   "execution_count": 261,
   "id": "40d4e2f3-8e9b-4471-bf48-b516ba229edb",
   "metadata": {},
   "outputs": [
    {
     "data": {
      "text/plain": [
       "3.0"
      ]
     },
     "execution_count": 261,
     "metadata": {},
     "output_type": "execute_result"
    }
   ],
   "source": [
    "x // y"
   ]
  },
  {
   "cell_type": "code",
   "execution_count": 263,
   "id": "a35d78e0-87fe-48b4-a8a8-237b3eb059fb",
   "metadata": {},
   "outputs": [
    {
     "data": {
      "text/plain": [
       "3"
      ]
     },
     "execution_count": 263,
     "metadata": {},
     "output_type": "execute_result"
    }
   ],
   "source": [
    "10 // 3"
   ]
  },
  {
   "cell_type": "code",
   "execution_count": 265,
   "id": "3f2fbc02-e16a-4aff-b157-72c99da44e85",
   "metadata": {},
   "outputs": [
    {
     "data": {
      "text/plain": [
       "1258.9254117941675"
      ]
     },
     "execution_count": 265,
     "metadata": {},
     "output_type": "execute_result"
    }
   ],
   "source": [
    "x ** y"
   ]
  },
  {
   "cell_type": "code",
   "execution_count": 267,
   "id": "7c6e3c11-19c4-4dfc-89b5-271a2422c88b",
   "metadata": {},
   "outputs": [
    {
     "data": {
      "text/plain": [
       "0.6999999999999997"
      ]
     },
     "execution_count": 267,
     "metadata": {},
     "output_type": "execute_result"
    }
   ],
   "source": [
    "x % y"
   ]
  },
  {
   "cell_type": "code",
   "execution_count": 269,
   "id": "7cb0ddc2-1a1f-4452-b382-7d4d5499cbd3",
   "metadata": {},
   "outputs": [
    {
     "data": {
      "text/plain": [
       "10.0"
      ]
     },
     "execution_count": 269,
     "metadata": {},
     "output_type": "execute_result"
    }
   ],
   "source": [
    "x = 10\n",
    "float(x)"
   ]
  },
  {
   "cell_type": "code",
   "execution_count": 271,
   "id": "be2fb3a7-7ec9-43af-af99-b2105cacab29",
   "metadata": {},
   "outputs": [
    {
     "data": {
      "text/plain": [
       "123.456"
      ]
     },
     "execution_count": 271,
     "metadata": {},
     "output_type": "execute_result"
    }
   ],
   "source": [
    "x = '123.456'\n",
    "float(x)"
   ]
  },
  {
   "cell_type": "code",
   "execution_count": 275,
   "id": "bc86699f-d861-4a02-b0a5-cd8f1546e6c1",
   "metadata": {},
   "outputs": [
    {
     "data": {
      "text/plain": [
       "123"
      ]
     },
     "execution_count": 275,
     "metadata": {},
     "output_type": "execute_result"
    }
   ],
   "source": [
    "int(123.567)"
   ]
  },
  {
   "cell_type": "code",
   "execution_count": 277,
   "id": "0f3c33ca-dd8f-4695-8584-2970eda648b6",
   "metadata": {},
   "outputs": [
    {
     "ename": "ValueError",
     "evalue": "invalid literal for int() with base 10: '123.456'",
     "output_type": "error",
     "traceback": [
      "\u001b[1;31m---------------------------------------------------------------------------\u001b[0m",
      "\u001b[1;31mValueError\u001b[0m                                Traceback (most recent call last)",
      "Cell \u001b[1;32mIn[277], line 1\u001b[0m\n\u001b[1;32m----> 1\u001b[0m \u001b[38;5;28mint\u001b[39m(x)\n",
      "\u001b[1;31mValueError\u001b[0m: invalid literal for int() with base 10: '123.456'"
     ]
    }
   ],
   "source": [
    "int(x)"
   ]
  },
  {
   "cell_type": "code",
   "execution_count": 279,
   "id": "d22714f4-3e07-4347-98aa-aff17316a65a",
   "metadata": {},
   "outputs": [
    {
     "data": {
      "text/plain": [
       "'123.456'"
      ]
     },
     "execution_count": 279,
     "metadata": {},
     "output_type": "execute_result"
    }
   ],
   "source": [
    "x"
   ]
  },
  {
   "cell_type": "code",
   "execution_count": 281,
   "id": "6a34ac97-fd10-40df-8102-11337c772df8",
   "metadata": {},
   "outputs": [
    {
     "data": {
      "text/plain": [
       "123"
      ]
     },
     "execution_count": 281,
     "metadata": {},
     "output_type": "execute_result"
    }
   ],
   "source": [
    "int(float(x))"
   ]
  },
  {
   "cell_type": "code",
   "execution_count": 283,
   "id": "ec7a4d44-84cf-45ac-96d3-2d461bce6df1",
   "metadata": {},
   "outputs": [
    {
     "data": {
      "text/plain": [
       "str"
      ]
     },
     "execution_count": 283,
     "metadata": {},
     "output_type": "execute_result"
    }
   ],
   "source": [
    "s = 'abcd'\n",
    "type(s)"
   ]
  },
  {
   "cell_type": "code",
   "execution_count": 285,
   "id": "b22273c0-05d5-45b9-bf95-b46b32689175",
   "metadata": {},
   "outputs": [
    {
     "name": "stdout",
     "output_type": "stream",
     "text": [
      "abcd\n"
     ]
    }
   ],
   "source": [
    "print(s)"
   ]
  },
  {
   "cell_type": "code",
   "execution_count": 287,
   "id": "d85ff39a-55b3-4e54-92f5-df9396a8e3f3",
   "metadata": {},
   "outputs": [
    {
     "data": {
      "text/plain": [
       "'abcd'"
      ]
     },
     "execution_count": 287,
     "metadata": {},
     "output_type": "execute_result"
    }
   ],
   "source": [
    "s"
   ]
  },
  {
   "cell_type": "code",
   "execution_count": 289,
   "id": "8e4d9743-3db3-48a2-8e4e-cd1b12de5900",
   "metadata": {},
   "outputs": [
    {
     "data": {
      "text/plain": [
       "4"
      ]
     },
     "execution_count": 289,
     "metadata": {},
     "output_type": "execute_result"
    }
   ],
   "source": [
    "len(s)"
   ]
  },
  {
   "cell_type": "code",
   "execution_count": 291,
   "id": "68fcb689-e199-4772-9d63-c34b0f52b8d9",
   "metadata": {},
   "outputs": [
    {
     "data": {
      "text/plain": [
       "'abcdefgh'"
      ]
     },
     "execution_count": 291,
     "metadata": {},
     "output_type": "execute_result"
    }
   ],
   "source": [
    "x = 'abcd'\n",
    "y = 'efgh'\n",
    "\n",
    "x + y"
   ]
  },
  {
   "cell_type": "code",
   "execution_count": 293,
   "id": "f88fbfa1-f049-4c58-bd15-bbc439f28255",
   "metadata": {},
   "outputs": [
    {
     "data": {
      "text/plain": [
       "8"
      ]
     },
     "execution_count": 293,
     "metadata": {},
     "output_type": "execute_result"
    }
   ],
   "source": [
    "len(x + y)"
   ]
  },
  {
   "cell_type": "code",
   "execution_count": 295,
   "id": "da13b314-1038-40ce-934d-9508a1b753e8",
   "metadata": {},
   "outputs": [
    {
     "data": {
      "text/plain": [
       "'abcdabcdabcd'"
      ]
     },
     "execution_count": 295,
     "metadata": {},
     "output_type": "execute_result"
    }
   ],
   "source": [
    "x * 3"
   ]
  },
  {
   "cell_type": "code",
   "execution_count": 297,
   "id": "840a676f-4bf4-4cbc-acd0-2125583d9540",
   "metadata": {},
   "outputs": [
    {
     "name": "stdout",
     "output_type": "stream",
     "text": [
      "------------------------------------------------------------\n"
     ]
    }
   ],
   "source": [
    "print('-' * 60)"
   ]
  },
  {
   "cell_type": "code",
   "execution_count": 299,
   "id": "08b93b54-3c92-4ca3-9b58-dacda3e217fd",
   "metadata": {},
   "outputs": [],
   "source": [
    "s = 'abcdefghijklmnopqrstuvwxyz'"
   ]
  },
  {
   "cell_type": "code",
   "execution_count": 301,
   "id": "9ba7dbdf-cc41-497d-889b-36e4f426e952",
   "metadata": {},
   "outputs": [
    {
     "data": {
      "text/plain": [
       "'a'"
      ]
     },
     "execution_count": 301,
     "metadata": {},
     "output_type": "execute_result"
    }
   ],
   "source": [
    "s[0]"
   ]
  },
  {
   "cell_type": "code",
   "execution_count": 303,
   "id": "5748dba2-b1cf-4315-8772-9df7ad8ca1f9",
   "metadata": {},
   "outputs": [
    {
     "data": {
      "text/plain": [
       "'z'"
      ]
     },
     "execution_count": 303,
     "metadata": {},
     "output_type": "execute_result"
    }
   ],
   "source": [
    "s[25]"
   ]
  },
  {
   "cell_type": "code",
   "execution_count": 305,
   "id": "d88ac4bd-5d97-4974-b9ad-a583a3540289",
   "metadata": {},
   "outputs": [
    {
     "data": {
      "text/plain": [
       "'z'"
      ]
     },
     "execution_count": 305,
     "metadata": {},
     "output_type": "execute_result"
    }
   ],
   "source": [
    "s[-1]"
   ]
  },
  {
   "cell_type": "code",
   "execution_count": 309,
   "id": "c07f4fc1-5a7a-47ae-acb5-69f3a24d2bf5",
   "metadata": {},
   "outputs": [
    {
     "data": {
      "text/plain": [
       "'z'"
      ]
     },
     "execution_count": 309,
     "metadata": {},
     "output_type": "execute_result"
    }
   ],
   "source": [
    "s[len(s) - 1]"
   ]
  },
  {
   "cell_type": "code",
   "execution_count": 311,
   "id": "659b8547-d68b-41f5-969e-5dc453652e27",
   "metadata": {},
   "outputs": [
    {
     "data": {
      "text/plain": [
       "'abc\\ndef'"
      ]
     },
     "execution_count": 311,
     "metadata": {},
     "output_type": "execute_result"
    }
   ],
   "source": [
    "s = 'abc\\ndef'\n",
    "s"
   ]
  },
  {
   "cell_type": "code",
   "execution_count": 313,
   "id": "6237d103-d3b6-47d4-8415-1e4da6e24576",
   "metadata": {},
   "outputs": [
    {
     "name": "stdout",
     "output_type": "stream",
     "text": [
      "abc\n",
      "def\n"
     ]
    }
   ],
   "source": [
    "print(s)"
   ]
  },
  {
   "cell_type": "code",
   "execution_count": 315,
   "id": "54a02982-b98d-473b-babd-64f9a1a97041",
   "metadata": {},
   "outputs": [
    {
     "name": "stdout",
     "output_type": "stream",
     "text": [
      "abc\tdef\tghi\n"
     ]
    }
   ],
   "source": [
    "s = 'abc\\tdef\\tghi'\n",
    "print(s)"
   ]
  },
  {
   "cell_type": "code",
   "execution_count": 319,
   "id": "2660bc11-1f61-4d1d-98fd-9e27a5e7dbe8",
   "metadata": {},
   "outputs": [
    {
     "name": "stdout",
     "output_type": "stream",
     "text": [
      "Then you use a \\n in your code.\n"
     ]
    }
   ],
   "source": [
    "s = 'Then you use a \\\\n in your code.'\n",
    "print(s)"
   ]
  },
  {
   "cell_type": "code",
   "execution_count": 321,
   "id": "8b6f1b28-df62-4cf3-86ef-4f68d6fdbda3",
   "metadata": {},
   "outputs": [
    {
     "data": {
      "text/plain": [
       "'Then you use a \\\\n in your code.'"
      ]
     },
     "execution_count": 321,
     "metadata": {},
     "output_type": "execute_result"
    }
   ],
   "source": [
    "s"
   ]
  },
  {
   "cell_type": "code",
   "execution_count": 323,
   "id": "901ffccd-a0ff-4e33-9b00-c0093c603791",
   "metadata": {},
   "outputs": [],
   "source": [
    "s = 'She\\'s very nice.'"
   ]
  },
  {
   "cell_type": "code",
   "execution_count": 325,
   "id": "2ddc27ae-8448-4ffc-a5ce-55f7a9443f10",
   "metadata": {},
   "outputs": [
    {
     "data": {
      "text/plain": [
       "\"She's very nice.\""
      ]
     },
     "execution_count": 325,
     "metadata": {},
     "output_type": "execute_result"
    }
   ],
   "source": [
    "s"
   ]
  },
  {
   "cell_type": "code",
   "execution_count": 329,
   "id": "87b43511-4e86-4722-b2de-d146ac6c53ea",
   "metadata": {},
   "outputs": [],
   "source": [
    "s = \"He said, \\\"Hello\\\"\""
   ]
  },
  {
   "cell_type": "code",
   "execution_count": 335,
   "id": "ba3679f6-52b1-4f67-b193-d2e2533a5b23",
   "metadata": {},
   "outputs": [
    {
     "name": "stdout",
     "output_type": "stream",
     "text": [
      "c:\\abc\\def\\ghi\n"
     ]
    }
   ],
   "source": [
    "path = r'c:\\abc\\def\\ghi'\n",
    "\n",
    "print(path)"
   ]
  },
  {
   "cell_type": "code",
   "execution_count": 337,
   "id": "d4dda5e6-9d79-4fa9-9f3d-2843ac43006a",
   "metadata": {},
   "outputs": [
    {
     "data": {
      "text/plain": [
       "'c:\\\\abc\\\\def\\\\ghi'"
      ]
     },
     "execution_count": 337,
     "metadata": {},
     "output_type": "execute_result"
    }
   ],
   "source": [
    "path"
   ]
  },
  {
   "cell_type": "code",
   "execution_count": 339,
   "id": "3ebf09bb-d42b-4caa-831c-f614a896fdeb",
   "metadata": {},
   "outputs": [
    {
     "name": "stdin",
     "output_type": "stream",
     "text": [
      "Enter a path:  c:\\abc\n"
     ]
    }
   ],
   "source": [
    "path = input(\"Enter a path: \")"
   ]
  },
  {
   "cell_type": "code",
   "execution_count": 341,
   "id": "c285d3c8-2ee8-4dac-b520-0413e75dfe23",
   "metadata": {},
   "outputs": [
    {
     "data": {
      "text/plain": [
       "'c:\\\\abc'"
      ]
     },
     "execution_count": 341,
     "metadata": {},
     "output_type": "execute_result"
    }
   ],
   "source": [
    "path"
   ]
  },
  {
   "cell_type": "code",
   "execution_count": 1,
   "id": "31a62d46-fb37-455b-b5f3-b6e4c914fefa",
   "metadata": {},
   "outputs": [
    {
     "data": {
      "text/plain": [
       "'a'"
      ]
     },
     "execution_count": 1,
     "metadata": {},
     "output_type": "execute_result"
    }
   ],
   "source": [
    "s = 'abcde'\n",
    "s[0]"
   ]
  },
  {
   "cell_type": "code",
   "execution_count": 3,
   "id": "3f42bfa0-7c10-494a-83f9-9cbcb6cc9fd0",
   "metadata": {},
   "outputs": [
    {
     "data": {
      "text/plain": [
       "'c'"
      ]
     },
     "execution_count": 3,
     "metadata": {},
     "output_type": "execute_result"
    }
   ],
   "source": [
    "s[2]"
   ]
  },
  {
   "cell_type": "code",
   "execution_count": 5,
   "id": "e0ae6405-6297-41f6-99fa-c43d4bf2928e",
   "metadata": {},
   "outputs": [
    {
     "data": {
      "text/plain": [
       "'e'"
      ]
     },
     "execution_count": 5,
     "metadata": {},
     "output_type": "execute_result"
    }
   ],
   "source": [
    "s[-1]"
   ]
  },
  {
   "cell_type": "code",
   "execution_count": 7,
   "id": "a68a2389-8325-4da1-b1da-b71791d6e4d9",
   "metadata": {},
   "outputs": [
    {
     "data": {
      "text/plain": [
       "str"
      ]
     },
     "execution_count": 7,
     "metadata": {},
     "output_type": "execute_result"
    }
   ],
   "source": [
    "type(s[0])"
   ]
  },
  {
   "cell_type": "code",
   "execution_count": 9,
   "id": "d7df2272-6a26-4880-8e3f-9c5aa6527fac",
   "metadata": {},
   "outputs": [
    {
     "data": {
      "text/plain": [
       "str"
      ]
     },
     "execution_count": 9,
     "metadata": {},
     "output_type": "execute_result"
    }
   ],
   "source": [
    "type(s[-1])"
   ]
  },
  {
   "cell_type": "code",
   "execution_count": 11,
   "id": "b086d2a5-bffd-4950-89e2-9f7299f0890c",
   "metadata": {},
   "outputs": [
    {
     "data": {
      "text/plain": [
       "'ab'"
      ]
     },
     "execution_count": 11,
     "metadata": {},
     "output_type": "execute_result"
    }
   ],
   "source": [
    "s[0:2]"
   ]
  },
  {
   "cell_type": "code",
   "execution_count": 13,
   "id": "d78ae038-78ba-4cfe-8208-5218f6a9a43b",
   "metadata": {},
   "outputs": [
    {
     "ename": "IndexError",
     "evalue": "string index out of range",
     "output_type": "error",
     "traceback": [
      "\u001b[1;31m---------------------------------------------------------------------------\u001b[0m",
      "\u001b[1;31mIndexError\u001b[0m                                Traceback (most recent call last)",
      "Cell \u001b[1;32mIn[13], line 1\u001b[0m\n\u001b[1;32m----> 1\u001b[0m s[\u001b[38;5;241m100\u001b[39m]\n",
      "\u001b[1;31mIndexError\u001b[0m: string index out of range"
     ]
    }
   ],
   "source": [
    "s[100]"
   ]
  },
  {
   "cell_type": "code",
   "execution_count": 15,
   "id": "2e11326f-7382-4c51-8169-c4974f574438",
   "metadata": {},
   "outputs": [
    {
     "data": {
      "text/plain": [
       "'cde'"
      ]
     },
     "execution_count": 15,
     "metadata": {},
     "output_type": "execute_result"
    }
   ],
   "source": [
    "s[2:100]"
   ]
  },
  {
   "cell_type": "code",
   "execution_count": 17,
   "id": "8dec21bd-831c-405d-b88b-98bf3a0c2844",
   "metadata": {},
   "outputs": [
    {
     "data": {
      "text/plain": [
       "26"
      ]
     },
     "execution_count": 17,
     "metadata": {},
     "output_type": "execute_result"
    }
   ],
   "source": [
    "s = 'abcdefghijklmnopqrstuvwxyz'\n",
    "len(s)"
   ]
  },
  {
   "cell_type": "code",
   "execution_count": 19,
   "id": "0afb3147-f89e-4d9d-a991-7e6215f16081",
   "metadata": {},
   "outputs": [
    {
     "data": {
      "text/plain": [
       "'abcdefghijklmnopqrst'"
      ]
     },
     "execution_count": 19,
     "metadata": {},
     "output_type": "execute_result"
    }
   ],
   "source": [
    "s[0:20]"
   ]
  },
  {
   "cell_type": "code",
   "execution_count": 21,
   "id": "2311bbe3-8198-4e8f-81da-d555728e3320",
   "metadata": {},
   "outputs": [
    {
     "data": {
      "text/plain": [
       "'abcdefghijklmnopqrst'"
      ]
     },
     "execution_count": 21,
     "metadata": {},
     "output_type": "execute_result"
    }
   ],
   "source": [
    "s[:20]"
   ]
  },
  {
   "cell_type": "code",
   "execution_count": 23,
   "id": "d66f013b-e050-42d2-9ea0-d0b959ae56fd",
   "metadata": {},
   "outputs": [
    {
     "data": {
      "text/plain": [
       "'uvwxy'"
      ]
     },
     "execution_count": 23,
     "metadata": {},
     "output_type": "execute_result"
    }
   ],
   "source": [
    "s[20:25]"
   ]
  },
  {
   "cell_type": "code",
   "execution_count": 25,
   "id": "d9d6ec39-8aec-4620-b6d0-9acf519a7dd6",
   "metadata": {},
   "outputs": [
    {
     "data": {
      "text/plain": [
       "'uvwxyz'"
      ]
     },
     "execution_count": 25,
     "metadata": {},
     "output_type": "execute_result"
    }
   ],
   "source": [
    "s[20:]"
   ]
  },
  {
   "cell_type": "code",
   "execution_count": 27,
   "id": "a0536046-77d3-4eb9-bda8-1d73c6be3603",
   "metadata": {},
   "outputs": [
    {
     "data": {
      "text/plain": [
       "'abcdefghijklmnopqrstuvwxyz'"
      ]
     },
     "execution_count": 27,
     "metadata": {},
     "output_type": "execute_result"
    }
   ],
   "source": [
    "s[:]"
   ]
  },
  {
   "cell_type": "code",
   "execution_count": 29,
   "id": "d865168c-467b-472b-b01a-a876fe1b73d5",
   "metadata": {},
   "outputs": [
    {
     "data": {
      "text/plain": [
       "'klmnopqrst'"
      ]
     },
     "execution_count": 29,
     "metadata": {},
     "output_type": "execute_result"
    }
   ],
   "source": [
    "s[10:20]"
   ]
  },
  {
   "cell_type": "code",
   "execution_count": 31,
   "id": "a7c1211c-db10-4680-8e3c-ad4483077079",
   "metadata": {},
   "outputs": [
    {
     "data": {
      "text/plain": [
       "'kmoqs'"
      ]
     },
     "execution_count": 31,
     "metadata": {},
     "output_type": "execute_result"
    }
   ],
   "source": [
    "s[10:20:2]"
   ]
  },
  {
   "cell_type": "code",
   "execution_count": 33,
   "id": "8e897259-6bf3-4a31-b648-f24b2d54e30e",
   "metadata": {},
   "outputs": [
    {
     "data": {
      "text/plain": [
       "'knqtw'"
      ]
     },
     "execution_count": 33,
     "metadata": {},
     "output_type": "execute_result"
    }
   ],
   "source": [
    "s[10:25:3]"
   ]
  },
  {
   "cell_type": "code",
   "execution_count": 35,
   "id": "5eb87c70-87d5-49d8-a665-da6cb2f99599",
   "metadata": {},
   "outputs": [
    {
     "data": {
      "text/plain": [
       "'acegikmoqsuwy'"
      ]
     },
     "execution_count": 35,
     "metadata": {},
     "output_type": "execute_result"
    }
   ],
   "source": [
    "s[::2]"
   ]
  },
  {
   "cell_type": "code",
   "execution_count": 37,
   "id": "720b5e35-2c09-4c3a-b8c7-bd4665449a1a",
   "metadata": {},
   "outputs": [
    {
     "data": {
      "text/plain": [
       "'b'"
      ]
     },
     "execution_count": 37,
     "metadata": {},
     "output_type": "execute_result"
    }
   ],
   "source": [
    "s[1:2]"
   ]
  },
  {
   "cell_type": "code",
   "execution_count": 39,
   "id": "73ece6a7-5f28-4567-b56d-1cb94977da12",
   "metadata": {},
   "outputs": [
    {
     "data": {
      "text/plain": [
       "'bdfhjlnprtvxz'"
      ]
     },
     "execution_count": 39,
     "metadata": {},
     "output_type": "execute_result"
    }
   ],
   "source": [
    "s[1::2]"
   ]
  },
  {
   "cell_type": "code",
   "execution_count": 43,
   "id": "ff1dd7fc-2b6f-4b47-8385-8b200be2a747",
   "metadata": {},
   "outputs": [
    {
     "data": {
      "text/plain": [
       "'zyxwvutsrqponmlkjihgfedcba'"
      ]
     },
     "execution_count": 43,
     "metadata": {},
     "output_type": "execute_result"
    }
   ],
   "source": [
    "s[::-1]"
   ]
  },
  {
   "cell_type": "code",
   "execution_count": 47,
   "id": "0318ab8e-6c0f-492a-b548-8f826a702c17",
   "metadata": {},
   "outputs": [
    {
     "data": {
      "text/plain": [
       "'utsrqponml'"
      ]
     },
     "execution_count": 47,
     "metadata": {},
     "output_type": "execute_result"
    }
   ],
   "source": [
    "s[20:10:-1]"
   ]
  },
  {
   "cell_type": "code",
   "execution_count": 49,
   "id": "253c930b-2aa2-46b2-9763-9e26f9d955cb",
   "metadata": {},
   "outputs": [
    {
     "data": {
      "text/plain": [
       "'abcdefghijklmnopqrstuvwxyz'"
      ]
     },
     "execution_count": 49,
     "metadata": {},
     "output_type": "execute_result"
    }
   ],
   "source": [
    "s"
   ]
  },
  {
   "cell_type": "code",
   "execution_count": 51,
   "id": "804dbfc6-f608-469e-beca-ac2c029e2aaf",
   "metadata": {},
   "outputs": [
    {
     "data": {
      "text/plain": [
       "True"
      ]
     },
     "execution_count": 51,
     "metadata": {},
     "output_type": "execute_result"
    }
   ],
   "source": [
    "'n' in s"
   ]
  },
  {
   "cell_type": "code",
   "execution_count": 53,
   "id": "2c164be3-92fe-42da-96bd-16677ad6ca9b",
   "metadata": {},
   "outputs": [
    {
     "data": {
      "text/plain": [
       "False"
      ]
     },
     "execution_count": 53,
     "metadata": {},
     "output_type": "execute_result"
    }
   ],
   "source": [
    "'!' in s"
   ]
  },
  {
   "cell_type": "code",
   "execution_count": 55,
   "id": "400da98e-fdbf-4307-8701-f04002def6b2",
   "metadata": {},
   "outputs": [
    {
     "data": {
      "text/plain": [
       "True"
      ]
     },
     "execution_count": 55,
     "metadata": {},
     "output_type": "execute_result"
    }
   ],
   "source": [
    "'mno' in s"
   ]
  },
  {
   "cell_type": "code",
   "execution_count": 57,
   "id": "d903249e-6796-464f-a69a-a9d24cd75ea4",
   "metadata": {},
   "outputs": [
    {
     "data": {
      "text/plain": [
       "False"
      ]
     },
     "execution_count": 57,
     "metadata": {},
     "output_type": "execute_result"
    }
   ],
   "source": [
    "'mor' in s"
   ]
  },
  {
   "cell_type": "code",
   "execution_count": 59,
   "id": "713c368c-c050-4378-a0fe-8f11f53007d6",
   "metadata": {},
   "outputs": [
    {
     "data": {
      "text/plain": [
       "'C:\\\\Users\\\\graft\\\\Documents\\\\Lerner Python\\\\Intro Python-Fundamentals\\\\notebooks'"
      ]
     },
     "execution_count": 59,
     "metadata": {},
     "output_type": "execute_result"
    }
   ],
   "source": [
    "%pwd"
   ]
  },
  {
   "cell_type": "code",
   "execution_count": 63,
   "id": "67b74278-968c-4a40-8247-2f86b4cd289e",
   "metadata": {},
   "outputs": [
    {
     "data": {
      "text/plain": [
       "'abcdefghijklmnopqrstuvwxyz'"
      ]
     },
     "execution_count": 63,
     "metadata": {},
     "output_type": "execute_result"
    }
   ],
   "source": [
    "s"
   ]
  },
  {
   "cell_type": "code",
   "execution_count": 65,
   "id": "cae01153-5cd2-4dd1-b790-680598d51a15",
   "metadata": {},
   "outputs": [
    {
     "data": {
      "text/plain": [
       "'ABCDEFGHIJKLMNOPQRSTUVWXYZ'"
      ]
     },
     "execution_count": 65,
     "metadata": {},
     "output_type": "execute_result"
    }
   ],
   "source": [
    "s.upper()"
   ]
  },
  {
   "cell_type": "code",
   "execution_count": 67,
   "id": "a71fc224-d4ac-4b30-9ce6-47c76e86605b",
   "metadata": {},
   "outputs": [
    {
     "data": {
      "text/plain": [
       "'abcdefghijklmnopqrstuvwxyz'"
      ]
     },
     "execution_count": 67,
     "metadata": {},
     "output_type": "execute_result"
    }
   ],
   "source": [
    "s.lower()"
   ]
  },
  {
   "cell_type": "code",
   "execution_count": 71,
   "id": "aac13f37-13e6-4f63-aaaf-890d9ee04fce",
   "metadata": {},
   "outputs": [
    {
     "data": {
      "text/plain": [
       "'Abcdefghijklmnopqrstuvwxyz'"
      ]
     },
     "execution_count": 71,
     "metadata": {},
     "output_type": "execute_result"
    }
   ],
   "source": [
    "s.capitalize()"
   ]
  },
  {
   "cell_type": "code",
   "execution_count": 81,
   "id": "cae02e51-5d4b-400f-acff-a0d49d61cc12",
   "metadata": {},
   "outputs": [
    {
     "name": "stdin",
     "output_type": "stream",
     "text": [
      "Enter your name:                 Levi\n"
     ]
    },
    {
     "name": "stdout",
     "output_type": "stream",
     "text": [
      "Hello, Levi!\n"
     ]
    }
   ],
   "source": [
    "name = input(\"Enter your name: \").strip()\n",
    "print('Hello, ' + name + '!')"
   ]
  },
  {
   "cell_type": "code",
   "execution_count": 83,
   "id": "93619a9c-fc9a-4924-a8c1-2ba50cc0529d",
   "metadata": {},
   "outputs": [
    {
     "data": {
      "text/plain": [
       "1"
      ]
     },
     "execution_count": 83,
     "metadata": {},
     "output_type": "execute_result"
    }
   ],
   "source": [
    "s.index('b')"
   ]
  },
  {
   "cell_type": "code",
   "execution_count": 85,
   "id": "e69c4469-17e5-4a03-9ccb-409ef7053578",
   "metadata": {},
   "outputs": [
    {
     "data": {
      "text/plain": [
       "-1"
      ]
     },
     "execution_count": 85,
     "metadata": {},
     "output_type": "execute_result"
    }
   ],
   "source": [
    "s.find('!')"
   ]
  },
  {
   "cell_type": "code",
   "execution_count": 93,
   "id": "674585ae-1903-4771-993e-bd34f84a0d96",
   "metadata": {},
   "outputs": [
    {
     "name": "stdout",
     "output_type": "stream",
     "text": [
      "this is the first line\n",
      "this is the second line\n",
      "this is the third line\n"
     ]
    }
   ],
   "source": [
    "s = '''this is the first line\\nthis is the second line\\nthis is the third line'\n",
    "print(s)"
   ]
  },
  {
   "cell_type": "code",
   "execution_count": 97,
   "id": "44bbcda8-88c4-453b-82f5-881f979d0ddf",
   "metadata": {},
   "outputs": [
    {
     "name": "stdout",
     "output_type": "stream",
     "text": [
      "Hello, Levi.\n"
     ]
    }
   ],
   "source": [
    "name = 'Levi'\n",
    "favorite_number = 33\n",
    "print('Hello, ' + name + '.')"
   ]
  },
  {
   "cell_type": "code",
   "execution_count": 99,
   "id": "ed8e7477-37b5-40f4-8682-6ad16329930a",
   "metadata": {},
   "outputs": [
    {
     "data": {
      "text/plain": [
       "'Hello, Levi. I know that your favorite number is 33.'"
      ]
     },
     "execution_count": 99,
     "metadata": {},
     "output_type": "execute_result"
    }
   ],
   "source": [
    "f'Hello, {name}. I know that your favorite number is {favorite_number}.'"
   ]
  },
  {
   "cell_type": "code",
   "execution_count": 109,
   "id": "076ff556-7da0-4743-9982-a7efe625a758",
   "metadata": {},
   "outputs": [
    {
     "data": {
      "text/plain": [
       "'Hello,    Levi      Graft   .'"
      ]
     },
     "execution_count": 109,
     "metadata": {},
     "output_type": "execute_result"
    }
   ],
   "source": [
    "first = 'Levi'\n",
    "last = 'Graft'\n",
    "\n",
    "f'Hello, {first:^10} {last:^10}.'"
   ]
  },
  {
   "cell_type": "code",
   "execution_count": 115,
   "id": "2af91358-3089-4dae-8422-836bfff934cd",
   "metadata": {},
   "outputs": [
    {
     "name": "stdout",
     "output_type": "stream",
     "text": [
      "abcd**efgh**102030\n"
     ]
    }
   ],
   "source": [
    "x = 'abcd'\n",
    "y = 'efgh'\n",
    "z = 102030\n",
    "print(x,y,z, sep= '**')"
   ]
  },
  {
   "cell_type": "code",
   "execution_count": 121,
   "id": "d8231ca3-c0b9-4967-b9eb-154c3126fe61",
   "metadata": {},
   "outputs": [
    {
     "name": "stdout",
     "output_type": "stream",
     "text": [
      "a\n"
     ]
    }
   ],
   "source": [
    "s = 'abcd'\n",
    "for one_letter in s:\n",
    "    if one_letter in 'aeiou':\n",
    "        print(one_letter)"
   ]
  },
  {
   "cell_type": "code",
   "execution_count": 137,
   "id": "c3ec4100-2877-482e-9d55-ad2a900c9c39",
   "metadata": {},
   "outputs": [
    {
     "name": "stdout",
     "output_type": "stream",
     "text": [
      "0: a\n",
      "1: b\n",
      "2: c\n",
      "3: d\n"
     ]
    }
   ],
   "source": [
    " s = 'abcd'\n",
    "index = 0\n",
    "for one_letter in s:\n",
    "    print(f'{index}: {one_letter}')\n",
    "    index +=1"
   ]
  },
  {
   "cell_type": "code",
   "execution_count": 141,
   "id": "5f652d6d-643f-4159-ad54-50a4f6c7ed35",
   "metadata": {},
   "outputs": [
    {
     "name": "stdout",
     "output_type": "stream",
     "text": [
      "1: a\n",
      "2: b\n",
      "3: c\n",
      "4: d\n"
     ]
    }
   ],
   "source": [
    "for index, one_letter in enumerate(s, 1):\n",
    "    print(f'{index}: {one_letter}')"
   ]
  },
  {
   "cell_type": "code",
   "execution_count": 145,
   "id": "19980792-0d36-4937-90e1-9dee75169cd4",
   "metadata": {},
   "outputs": [
    {
     "name": "stdout",
     "output_type": "stream",
     "text": [
      "0: Hooray!\n",
      "1: Hooray!\n",
      "2: Hooray!\n"
     ]
    }
   ],
   "source": [
    "for i in range(3):\n",
    "    print(f'{i}: Hooray!')"
   ]
  },
  {
   "cell_type": "code",
   "execution_count": 157,
   "id": "470dd86a-2a0c-421f-9081-0536bb035357",
   "metadata": {},
   "outputs": [
    {
     "name": "stdin",
     "output_type": "stream",
     "text": [
      "Enter a number:  6\n",
      "Enter your name:  Levi\n"
     ]
    },
    {
     "name": "stdout",
     "output_type": "stream",
     "text": [
      "Levi\n",
      "Levi\n",
      "Levi\n",
      "Levi\n",
      "Levi\n",
      "Levi\n"
     ]
    }
   ],
   "source": [
    "number = input(\"Enter a number: \")\n",
    "name = input(\"Enter your name: \")\n",
    "\n",
    "for i in range(int((number))):\n",
    "    print(name)"
   ]
  },
  {
   "cell_type": "code",
   "execution_count": 171,
   "id": "b9191aa5-f482-46cf-99f9-f3476e24775f",
   "metadata": {},
   "outputs": [
    {
     "name": "stdin",
     "output_type": "stream",
     "text": [
      "Enter your name:  Levi\n"
     ]
    },
    {
     "name": "stdout",
     "output_type": "stream",
     "text": [
      "L\n",
      "Le\n",
      "Lev\n",
      "Levi\n"
     ]
    }
   ],
   "source": [
    "name = input(\"Enter your name: \")\n",
    "\n",
    "for i in range(len(name)):\n",
    "    print(name[:i+1])\n"
   ]
  },
  {
   "cell_type": "code",
   "execution_count": 185,
   "id": "e5779356-da88-41c5-b239-c5ca677016c9",
   "metadata": {},
   "outputs": [
    {
     "name": "stdout",
     "output_type": "stream",
     "text": [
      "Found d\n"
     ]
    }
   ],
   "source": [
    "s = 'abcde'\n",
    "look_for = 'd'\n",
    "\n",
    "for one_letter in s:\n",
    "    if one_letter == look_for:\n",
    "        print(f'Found {look_for}')\n",
    "        break"
   ]
  },
  {
   "cell_type": "code",
   "execution_count": 191,
   "id": "f790969d-2bad-40aa-adaa-7b77d67560fc",
   "metadata": {},
   "outputs": [
    {
     "name": "stdout",
     "output_type": "stream",
     "text": [
      "a\n",
      "b\n",
      "c\n"
     ]
    }
   ],
   "source": [
    "s = 'abcde'\n",
    "look_for = 'd'\n",
    "\n",
    "for one_letter in s:\n",
    "    if one_letter == look_for:\n",
    "        break\n",
    "    print(one_letter)"
   ]
  },
  {
   "cell_type": "code",
   "execution_count": 193,
   "id": "6f8aa5fb-212e-4045-ba57-5aaa0d198425",
   "metadata": {},
   "outputs": [
    {
     "name": "stdout",
     "output_type": "stream",
     "text": [
      "a\n",
      "b\n",
      "c\n",
      "e\n"
     ]
    }
   ],
   "source": [
    "for one_letter in s:\n",
    "    if one_letter == look_for:\n",
    "        continue\n",
    "    print(one_letter)"
   ]
  },
  {
   "cell_type": "code",
   "execution_count": 199,
   "id": "77eb41cd-88d6-4b79-91cc-32755243a439",
   "metadata": {},
   "outputs": [
    {
     "name": "stdout",
     "output_type": "stream",
     "text": [
      "I don't know where that is\n",
      "I don't know where that is\n",
      "I don't know where that is\n",
      "I don't know where that is\n",
      "I don't know where that is\n"
     ]
    }
   ],
   "source": [
    "s = 'abcde'\n",
    "look_for = 'd'\n",
    "found_it = False \n",
    "for one_letter in s:\n",
    "    if one_letter == look_for:\n",
    "        print(one_letter)\n"
   ]
  },
  {
   "cell_type": "code",
   "execution_count": 209,
   "id": "8ff54384-c355-44ea-8979-386cb41ea923",
   "metadata": {},
   "outputs": [
    {
     "name": "stdout",
     "output_type": "stream",
     "text": [
      "Did not find !\n"
     ]
    }
   ],
   "source": [
    "s = 'abcde'\n",
    "look_for = '!'\n",
    "\n",
    "\n",
    "for one_letter in s:\n",
    "    if one_letter == look_for: \n",
    "        print(f\"Did not find {look_for}\")\n",
    "        break\n",
    "else:\n",
    "    print(f\"Did not find {look_for}\")"
   ]
  },
  {
   "cell_type": "code",
   "execution_count": 219,
   "id": "0f3c6ab5-0637-4cbb-8128-0fcbc0720915",
   "metadata": {},
   "outputs": [
    {
     "name": "stdout",
     "output_type": "stream",
     "text": [
      "5\n",
      "4\n",
      "3\n",
      "2\n",
      "1\n"
     ]
    }
   ],
   "source": [
    "x = 5\n",
    "while x:\n",
    "    print(x)\n",
    "    x -= 1"
   ]
  },
  {
   "cell_type": "code",
   "execution_count": 217,
   "id": "317566d5-ecf8-41f7-bfd7-06907ceb97a3",
   "metadata": {},
   "outputs": [
    {
     "name": "stdout",
     "output_type": "stream",
     "text": [
      "abcde\n",
      "abcd\n",
      "abc\n",
      "ab\n",
      "a\n"
     ]
    }
   ],
   "source": [
    "s = 'abcde'\n",
    "while s:\n",
    "    print(s)\n",
    "    s = s[:-1]"
   ]
  },
  {
   "cell_type": "code",
   "execution_count": 223,
   "id": "c335a359-5db9-4f54-8d4d-11147f2b7969",
   "metadata": {},
   "outputs": [],
   "source": [
    "mylist = [10, 20, 30 ]"
   ]
  },
  {
   "cell_type": "code",
   "execution_count": 225,
   "id": "abefba9c-3b2c-449c-abca-835dc48bd06a",
   "metadata": {},
   "outputs": [
    {
     "data": {
      "text/plain": [
       "list"
      ]
     },
     "execution_count": 225,
     "metadata": {},
     "output_type": "execute_result"
    }
   ],
   "source": [
    "type(mylist)"
   ]
  },
  {
   "cell_type": "code",
   "execution_count": 227,
   "id": "53438ab4-cc8e-4e56-9375-ef8df47fbff5",
   "metadata": {},
   "outputs": [
    {
     "data": {
      "text/plain": [
       "list"
      ]
     },
     "execution_count": 227,
     "metadata": {},
     "output_type": "execute_result"
    }
   ],
   "source": [
    "mylist = [10, 'abc', 20.5]\n",
    "type(mylist)"
   ]
  },
  {
   "cell_type": "code",
   "execution_count": 229,
   "id": "742f61f3-5eee-4fac-a996-ad49c716d8a1",
   "metadata": {},
   "outputs": [],
   "source": [
    "mylist = [10, 20, 30, 40, 50, 60, 70, 80, 90, 100]"
   ]
  },
  {
   "cell_type": "code",
   "execution_count": 235,
   "id": "fcf0ec8b-ff2a-4cb0-ab0a-a45215fb51fe",
   "metadata": {},
   "outputs": [
    {
     "name": "stdout",
     "output_type": "stream",
     "text": [
      "10 20 30 40 50 60 70 80 90 100 "
     ]
    }
   ],
   "source": [
    "for one_item in mylist:\n",
    "    print(one_item, end = ' ')"
   ]
  },
  {
   "cell_type": "code",
   "execution_count": 237,
   "id": "3d49b218-4d82-469d-a08c-65fc097ad123",
   "metadata": {},
   "outputs": [
    {
     "data": {
      "text/plain": [
       "True"
      ]
     },
     "execution_count": 237,
     "metadata": {},
     "output_type": "execute_result"
    }
   ],
   "source": [
    "50 in mylist"
   ]
  },
  {
   "cell_type": "code",
   "execution_count": 239,
   "id": "83077819-ffc8-4bf3-b09a-1ee5ef75ba8b",
   "metadata": {},
   "outputs": [
    {
     "data": {
      "text/plain": [
       "False"
      ]
     },
     "execution_count": 239,
     "metadata": {},
     "output_type": "execute_result"
    }
   ],
   "source": [
    "'50' in mylist"
   ]
  },
  {
   "cell_type": "code",
   "execution_count": 241,
   "id": "67ea48cc-dc44-495f-a583-0c4e7f56533e",
   "metadata": {},
   "outputs": [],
   "source": [
    "biglist = [mylist, mylist, mylist]"
   ]
  },
  {
   "cell_type": "code",
   "execution_count": 243,
   "id": "7989923f-e52d-4c04-b426-0168160bdd33",
   "metadata": {},
   "outputs": [
    {
     "data": {
      "text/plain": [
       "[[10, 20, 30, 40, 50, 60, 70, 80, 90, 100],\n",
       " [10, 20, 30, 40, 50, 60, 70, 80, 90, 100],\n",
       " [10, 20, 30, 40, 50, 60, 70, 80, 90, 100]]"
      ]
     },
     "execution_count": 243,
     "metadata": {},
     "output_type": "execute_result"
    }
   ],
   "source": [
    "biglist"
   ]
  },
  {
   "cell_type": "code",
   "execution_count": 245,
   "id": "ce7f976d-0d08-48fd-aaae-c3dff6626576",
   "metadata": {},
   "outputs": [],
   "source": [
    "mylist = [10, 20, 30]"
   ]
  },
  {
   "cell_type": "code",
   "execution_count": 247,
   "id": "6598237b-e9ef-4593-8a4c-10ec1f4a8751",
   "metadata": {},
   "outputs": [],
   "source": [
    "mylist[0] = ['!']"
   ]
  },
  {
   "cell_type": "code",
   "execution_count": 249,
   "id": "b6464747-b44d-4808-b2a3-0d6d95c3581f",
   "metadata": {},
   "outputs": [
    {
     "data": {
      "text/plain": [
       "[['!'], 20, 30]"
      ]
     },
     "execution_count": 249,
     "metadata": {},
     "output_type": "execute_result"
    }
   ],
   "source": [
    "mylist"
   ]
  },
  {
   "cell_type": "code",
   "execution_count": 253,
   "id": "9606904b-194c-4f9d-b52b-270eb1e42431",
   "metadata": {},
   "outputs": [],
   "source": [
    "biglist = [mylist, mylist, mylist]"
   ]
  },
  {
   "cell_type": "code",
   "execution_count": 257,
   "id": "c81cdf90-b297-4b10-9a87-0475bef8f39d",
   "metadata": {},
   "outputs": [],
   "source": [
    "biglist[0][2] = '?'"
   ]
  },
  {
   "cell_type": "code",
   "execution_count": 259,
   "id": "477d35ee-96e5-4457-b694-62aad7425c98",
   "metadata": {},
   "outputs": [
    {
     "data": {
      "text/plain": [
       "[[['!'], 20, '?'], [['!'], 20, '?'], [['!'], 20, '?']]"
      ]
     },
     "execution_count": 259,
     "metadata": {},
     "output_type": "execute_result"
    }
   ],
   "source": [
    "biglist"
   ]
  },
  {
   "cell_type": "code",
   "execution_count": 261,
   "id": "faed296b-4dd8-4b9c-bcd5-7f7fbd12665e",
   "metadata": {},
   "outputs": [
    {
     "data": {
      "text/plain": [
       "[['!'], 20, '?']"
      ]
     },
     "execution_count": 261,
     "metadata": {},
     "output_type": "execute_result"
    }
   ],
   "source": [
    "mylist"
   ]
  },
  {
   "cell_type": "code",
   "execution_count": 263,
   "id": "29e45258-2790-480b-8e34-4c1bafa71330",
   "metadata": {},
   "outputs": [],
   "source": [
    "mylist.append(40)"
   ]
  },
  {
   "cell_type": "code",
   "execution_count": 265,
   "id": "881afa67-c1ef-4146-94c0-291f325ac812",
   "metadata": {},
   "outputs": [
    {
     "data": {
      "text/plain": [
       "[['!'], 20, '?', 40]"
      ]
     },
     "execution_count": 265,
     "metadata": {},
     "output_type": "execute_result"
    }
   ],
   "source": [
    "mylist"
   ]
  },
  {
   "cell_type": "code",
   "execution_count": 301,
   "id": "47902be8-0807-4c7a-a179-3047ea1e99f5",
   "metadata": {},
   "outputs": [
    {
     "data": {
      "text/plain": [
       "[10, 20, 30, 40, 50, 60]"
      ]
     },
     "execution_count": 301,
     "metadata": {},
     "output_type": "execute_result"
    }
   ],
   "source": [
    "mylist = [10, 20, 30]\n",
    "for one_item in [40, 50, 60]:\n",
    "    mylist.append(one_item)\n",
    "mylist"
   ]
  },
  {
   "cell_type": "code",
   "execution_count": 307,
   "id": "793f82e6-a7ce-4fc7-a448-6db22915234e",
   "metadata": {},
   "outputs": [
    {
     "data": {
      "text/plain": [
       "[10, 20, 30, 40, 50, 60]"
      ]
     },
     "execution_count": 307,
     "metadata": {},
     "output_type": "execute_result"
    }
   ],
   "source": [
    "mylist = [10, 20, 30]\n",
    "mylist += [40, 50, 60]\n",
    "mylist"
   ]
  },
  {
   "cell_type": "code",
   "execution_count": 309,
   "id": "d168d936-d456-4428-8527-93823109548e",
   "metadata": {},
   "outputs": [
    {
     "data": {
      "text/plain": [
       "[10, 20, 30, 'a', 'b', 'c']"
      ]
     },
     "execution_count": 309,
     "metadata": {},
     "output_type": "execute_result"
    }
   ],
   "source": [
    "mylist = [10, 20, 30]\n",
    "mylist += 'abc'\n",
    "mylist"
   ]
  },
  {
   "cell_type": "code",
   "execution_count": 311,
   "id": "212cde68-97ec-4503-8c79-519d249859e9",
   "metadata": {},
   "outputs": [
    {
     "ename": "TypeError",
     "evalue": "'int' object is not iterable",
     "output_type": "error",
     "traceback": [
      "\u001b[1;31m---------------------------------------------------------------------------\u001b[0m",
      "\u001b[1;31mTypeError\u001b[0m                                 Traceback (most recent call last)",
      "Cell \u001b[1;32mIn[311], line 1\u001b[0m\n\u001b[1;32m----> 1\u001b[0m mylist \u001b[38;5;241m+\u001b[39m\u001b[38;5;241m=\u001b[39m \u001b[38;5;241m10\u001b[39m\n",
      "\u001b[1;31mTypeError\u001b[0m: 'int' object is not iterable"
     ]
    }
   ],
   "source": [
    "mylist += 10"
   ]
  },
  {
   "cell_type": "code",
   "execution_count": 313,
   "id": "9b1e6886-43c9-4013-a5ed-200b69b77a99",
   "metadata": {},
   "outputs": [],
   "source": [
    "mylist += [10]"
   ]
  },
  {
   "cell_type": "code",
   "execution_count": 315,
   "id": "b67509a3-421c-4f5e-80b9-a5a0b1f7a719",
   "metadata": {},
   "outputs": [
    {
     "data": {
      "text/plain": [
       "[10, 20, 30, 'a', 'b', 'c', 10]"
      ]
     },
     "execution_count": 315,
     "metadata": {},
     "output_type": "execute_result"
    }
   ],
   "source": [
    "mylist"
   ]
  },
  {
   "cell_type": "code",
   "execution_count": 317,
   "id": "cefb9d79-db1c-4529-b187-e802325830a8",
   "metadata": {},
   "outputs": [],
   "source": [
    "mylist = [10, 20, 30]"
   ]
  },
  {
   "cell_type": "code",
   "execution_count": 319,
   "id": "9eba0c73-7d60-425a-8bbc-5393c72cba2d",
   "metadata": {},
   "outputs": [
    {
     "data": {
      "text/plain": [
       "[10, 20, 30]"
      ]
     },
     "execution_count": 319,
     "metadata": {},
     "output_type": "execute_result"
    }
   ],
   "source": [
    "mylist"
   ]
  },
  {
   "cell_type": "code",
   "execution_count": 321,
   "id": "39ede4fc-bcfa-4585-8290-95b076c2fdfe",
   "metadata": {},
   "outputs": [],
   "source": [
    "mylist += [40, 50, 60]"
   ]
  },
  {
   "cell_type": "code",
   "execution_count": 323,
   "id": "07fd97b1-6ee8-45c5-8428-5db1b87b77bf",
   "metadata": {},
   "outputs": [
    {
     "data": {
      "text/plain": [
       "[10, 20, 30, 40, 50, 60]"
      ]
     },
     "execution_count": 323,
     "metadata": {},
     "output_type": "execute_result"
    }
   ],
   "source": [
    "mylist"
   ]
  },
  {
   "cell_type": "code",
   "execution_count": 325,
   "id": "38ef97b1-3588-43df-8088-4b02db5fc294",
   "metadata": {},
   "outputs": [
    {
     "data": {
      "text/plain": [
       "[10, 20, 'hello', 30, 40, 50]"
      ]
     },
     "execution_count": 325,
     "metadata": {},
     "output_type": "execute_result"
    }
   ],
   "source": [
    "mylist = [10, 20, 30, 40, 50]\n",
    "mylist.insert(2, 'hello')\n",
    "mylist"
   ]
  },
  {
   "cell_type": "code",
   "execution_count": 327,
   "id": "3b3cc1d7-db04-46c4-8693-d846bccc91bb",
   "metadata": {},
   "outputs": [
    {
     "data": {
      "text/plain": [
       "50"
      ]
     },
     "execution_count": 327,
     "metadata": {},
     "output_type": "execute_result"
    }
   ],
   "source": [
    "mylist.pop()"
   ]
  },
  {
   "cell_type": "code",
   "execution_count": 331,
   "id": "a14f2c7d-8c31-4b92-82d4-acaa14958f7c",
   "metadata": {},
   "outputs": [
    {
     "data": {
      "text/plain": [
       "'hello'"
      ]
     },
     "execution_count": 331,
     "metadata": {},
     "output_type": "execute_result"
    }
   ],
   "source": [
    "mylist.pop(2)"
   ]
  },
  {
   "cell_type": "code",
   "execution_count": 334,
   "id": "b8989916-628f-46b0-ad84-5bac940f0ff7",
   "metadata": {},
   "outputs": [],
   "source": [
    "mylist = [10, 20, 30, 10, 20, 30]\n",
    "mylist.remove(30)"
   ]
  },
  {
   "cell_type": "code",
   "execution_count": 336,
   "id": "7d0db22f-51b2-4c51-b821-67a57e20baf6",
   "metadata": {},
   "outputs": [
    {
     "data": {
      "text/plain": [
       "[10, 20, 10, 20, 30]"
      ]
     },
     "execution_count": 336,
     "metadata": {},
     "output_type": "execute_result"
    }
   ],
   "source": [
    "mylist"
   ]
  },
  {
   "cell_type": "code",
   "execution_count": 338,
   "id": "46e2c0f8-1240-4dcc-8205-2c28d1e10ad6",
   "metadata": {},
   "outputs": [
    {
     "name": "stdout",
     "output_type": "stream",
     "text": [
      "0 : Hello\n",
      "1 : Hello\n",
      "2 : Hello\n",
      "3 : Hello\n",
      "4 : Hello\n"
     ]
    }
   ],
   "source": [
    " for i in range(5):\n",
    "     print(f\"{i} : Hello\")"
   ]
  },
  {
   "cell_type": "code",
   "execution_count": 342,
   "id": "88c293ef-4dd2-43f6-b02b-fd3b858f6613",
   "metadata": {},
   "outputs": [
    {
     "data": {
      "text/plain": [
       "'abc***def***ghi'"
      ]
     },
     "execution_count": 342,
     "metadata": {},
     "output_type": "execute_result"
    }
   ],
   "source": [
    "mylist = ['abc', 'def', 'ghi']\n",
    "'***'.join(mylist)"
   ]
  },
  {
   "cell_type": "code",
   "execution_count": 208,
   "id": "a64c37b7-da51-40b2-ad17-819708ee7e25",
   "metadata": {},
   "outputs": [
    {
     "name": "stdin",
     "output_type": "stream",
     "text": [
      "Enter a name:  levi graft\n"
     ]
    },
    {
     "ename": "AttributeError",
     "evalue": "'tuple' object has no attribute 'append'",
     "output_type": "error",
     "traceback": [
      "\u001b[1;31m---------------------------------------------------------------------------\u001b[0m",
      "\u001b[1;31mAttributeError\u001b[0m                            Traceback (most recent call last)",
      "Cell \u001b[1;32mIn[208], line 4\u001b[0m\n\u001b[0;32m      1\u001b[0m name \u001b[38;5;241m=\u001b[39m \u001b[38;5;28minput\u001b[39m(\u001b[38;5;124m\"\u001b[39m\u001b[38;5;124mEnter a name: \u001b[39m\u001b[38;5;124m\"\u001b[39m)\u001b[38;5;241m.\u001b[39msplit()\n\u001b[0;32m      2\u001b[0m names\u001b[38;5;241m=\u001b[39m ()\n\u001b[1;32m----> 4\u001b[0m names\u001b[38;5;241m.\u001b[39mappend(name[\u001b[38;5;241m1\u001b[39m] \u001b[38;5;241m+\u001b[39m \u001b[38;5;124m'\u001b[39m\u001b[38;5;124m \u001b[39m\u001b[38;5;124m'\u001b[39m \u001b[38;5;241m+\u001b[39m name[\u001b[38;5;241m0\u001b[39m])\n\u001b[0;32m      6\u001b[0m \u001b[38;5;28mprint\u001b[39m(names)\n",
      "\u001b[1;31mAttributeError\u001b[0m: 'tuple' object has no attribute 'append'"
     ]
    }
   ],
   "source": [
    "name = input(\"Enter a name: \").split()\n",
    "names= ()\n",
    "\n",
    "names += tuple(name[1] + ' ' + name[0])\n",
    "\n",
    "print(names)"
   ]
  },
  {
   "cell_type": "code",
   "execution_count": 196,
   "id": "15cb18f2-ec2f-4ab2-9b8a-3981ba5790ed",
   "metadata": {},
   "outputs": [
    {
     "data": {
      "text/plain": [
       "'Graft'"
      ]
     },
     "execution_count": 196,
     "metadata": {},
     "output_type": "execute_result"
    }
   ],
   "source": [
    "'Levi Graft'.split()[1]"
   ]
  },
  {
   "cell_type": "code",
   "execution_count": 212,
   "id": "1277372c-fb78-4e18-bf34-89fbc534565f",
   "metadata": {},
   "outputs": [
    {
     "name": "stdin",
     "output_type": "stream",
     "text": [
      "Enter a first and last name:  levi graft\n",
      "Enter a first and last name:  dennis cline\n",
      "Enter a first and last name:  \n"
     ]
    }
   ],
   "source": [
    "all_people = []\n",
    "\n",
    "while True:\n",
    "    name = input(\"Enter a first and last name: \").strip()\n",
    "\n",
    "    if not name:\n",
    "        break\n",
    "\n",
    "    if ' ' not in name:\n",
    "        print(\"You didn't have a space\")\n",
    "        continue\n",
    "    \n",
    "\n",
    "    first_name, last_name = name.split()\n",
    "    all_people.append((last_name, first_name))\n",
    "    \n"
   ]
  },
  {
   "cell_type": "code",
   "execution_count": 216,
   "id": "a89b0c03-959c-48a5-a87f-dfb2d902f0fb",
   "metadata": {},
   "outputs": [
    {
     "data": {
      "text/plain": [
       "[('graft', 'levi'), ('cline', 'dennis')]"
      ]
     },
     "execution_count": 216,
     "metadata": {},
     "output_type": "execute_result"
    }
   ],
   "source": [
    "all_people"
   ]
  },
  {
   "cell_type": "code",
   "execution_count": 218,
   "id": "4e90809f-b415-44aa-a66c-94f5b7c0a84f",
   "metadata": {},
   "outputs": [
    {
     "data": {
      "text/plain": [
       "0"
      ]
     },
     "execution_count": 218,
     "metadata": {},
     "output_type": "execute_result"
    }
   ],
   "source": [
    "d = {}\n",
    "len(d)"
   ]
  },
  {
   "cell_type": "code",
   "execution_count": 220,
   "id": "56fc182e-eaab-4076-be10-99dbc9276db8",
   "metadata": {},
   "outputs": [],
   "source": [
    "d[100] = 10\n",
    "d[205] = 20\n",
    "d[315] = 30"
   ]
  },
  {
   "cell_type": "code",
   "execution_count": 222,
   "id": "c3beb85d-5726-474e-946a-a01eed9125b2",
   "metadata": {},
   "outputs": [
    {
     "data": {
      "text/plain": [
       "{100: 10, 205: 20, 315: 30}"
      ]
     },
     "execution_count": 222,
     "metadata": {},
     "output_type": "execute_result"
    }
   ],
   "source": [
    "d"
   ]
  },
  {
   "cell_type": "code",
   "execution_count": 224,
   "id": "55d9cda1-95ea-455e-b0f0-2a13bb08fd7c",
   "metadata": {},
   "outputs": [
    {
     "data": {
      "text/plain": [
       "{'a': 1, 'b': 2, 'c': 3}"
      ]
     },
     "execution_count": 224,
     "metadata": {},
     "output_type": "execute_result"
    }
   ],
   "source": [
    "d = {'a':1, 'b':2, 'c':3}\n",
    "d"
   ]
  },
  {
   "cell_type": "code",
   "execution_count": 238,
   "id": "9b9c31d9-34e7-4d90-af2f-818e0426d7d4",
   "metadata": {},
   "outputs": [
    {
     "name": "stdin",
     "output_type": "stream",
     "text": [
      "What do you want to order?:  salad\n"
     ]
    },
    {
     "name": "stdout",
     "output_type": "stream",
     "text": [
      "salad is 8, total is 8\n"
     ]
    },
    {
     "name": "stdin",
     "output_type": "stream",
     "text": [
      "What do you want to order?:  salad\n"
     ]
    },
    {
     "name": "stdout",
     "output_type": "stream",
     "text": [
      "salad is 8, total is 16\n"
     ]
    },
    {
     "name": "stdin",
     "output_type": "stream",
     "text": [
      "What do you want to order?:  coffee\n"
     ]
    },
    {
     "name": "stdout",
     "output_type": "stream",
     "text": [
      "coffee is 5, total is 21\n"
     ]
    },
    {
     "name": "stdin",
     "output_type": "stream",
     "text": [
      "What do you want to order?:  \n"
     ]
    }
   ],
   "source": [
    "total = 0\n",
    "while True:\n",
    "    menu = {'salad':8, 'sandwich':10, 'coffee':5}\n",
    "    order = input(\"What do you want to order?: \").strip()\n",
    "\n",
    "    if not order:\n",
    "        break\n",
    "\n",
    "    if order in menu:\n",
    "    \n",
    "        price = menu[order]\n",
    "        total += price\n",
    "        print(f'{order} is {price}, total is {total}')\n",
    "\n",
    "    else:\n",
    "        print(f\"We don't have {order} in stock. Try again.\")\n",
    "\n",
    "    "
   ]
  },
  {
   "cell_type": "code",
   "execution_count": null,
   "id": "33f50f70-4652-49dd-aab0-28132631ae03",
   "metadata": {},
   "outputs": [],
   "source": [
    "fdf"
   ]
  }
 ],
 "metadata": {
  "kernelspec": {
   "display_name": "Python 3 (ipykernel)",
   "language": "python",
   "name": "python3"
  },
  "language_info": {
   "codemirror_mode": {
    "name": "ipython",
    "version": 3
   },
   "file_extension": ".py",
   "mimetype": "text/x-python",
   "name": "python",
   "nbconvert_exporter": "python",
   "pygments_lexer": "ipython3",
   "version": "3.12.4"
  }
 },
 "nbformat": 4,
 "nbformat_minor": 5
}
